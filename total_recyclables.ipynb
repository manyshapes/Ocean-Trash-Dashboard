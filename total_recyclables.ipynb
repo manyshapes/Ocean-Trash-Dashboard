{
 "cells": [
  {
   "cell_type": "code",
   "execution_count": 2,
   "metadata": {},
   "outputs": [
    {
     "name": "stderr",
     "output_type": "stream",
     "text": [
      "/opt/anaconda3/lib/python3.7/site-packages/IPython/core/interactiveshell.py:3058: DtypeWarning: Columns (1) have mixed types. Specify dtype option on import or set low_memory=False.\n",
      "  interactivity=interactivity, compiler=compiler, result=result)\n"
     ]
    }
   ],
   "source": [
    "import pandas as pd\n",
    "import numpy as np\n",
    "\n",
    "\n",
    "data = pd.read_csv(\"Tides_and_Blue_Bucket_Data.csv\")"
   ]
  },
  {
   "cell_type": "code",
   "execution_count": null,
   "metadata": {},
   "outputs": [],
   "source": [
    "#I'm not sure if these are recyclable or not. Can someone help me confirm if they are?\n",
    " \n",
    " 'Take Out/Away Containers (Foam)',\n",
    " \n",
    " 'Bottle Caps (Metal)',\n",
    " \n",
    " 'Straws, Stirrers',\n",
    " 'Forks, Knives, Spoons',\n",
    "\n",
    " 'Cups, Plates (Foam)',\n",
    " 'Fishing Buoys, Pots & Traps',\n",
    " \n",
    " 'Fishing Line (1 yard/meter = 1 piece)',\n",
    " 'Fishing Gear (Clean Swell)',\n",
    " 'Other Plastic/Foam Packaging',\n",
    " 'Other Packaging (Clean Swell)',\n",
    " \n",
    "\n",
    " 'Construction Materials',\n",
    "\n",
    " 'Other Trash (Clean Swell)',\n",
    " 'E-cigarettes',\n",
    " 'Other tobacco (packaging, lighter, etc.)',\n",
    "\n",
    " 'Syringes',\n",
    " 'Personal Hygiene (Clean Swell)',\n",
    " 'Gloves & Masks (PPE)',\n",
    " 'Glass Pieces',"
   ]
  },
  {
   "cell_type": "code",
   "execution_count": 12,
   "metadata": {},
   "outputs": [
    {
     "data": {
      "text/plain": [
       "0        2\n",
       "1        0\n",
       "2        6\n",
       "3        7\n",
       "4        0\n",
       "        ..\n",
       "30752    0\n",
       "30753    6\n",
       "30754    3\n",
       "30755    1\n",
       "30756    0\n",
       "Name: Total Recyclables, Length: 30757, dtype: int64"
      ]
     },
     "execution_count": 12,
     "metadata": {},
     "output_type": "execute_result"
    }
   ],
   "source": [
    "df = data\n",
    "df[\"Total Recyclables\"] = df['Take Out/Away Containers (Plastic)'] + df['Bottle Caps (Plastic)'] \n",
    "+ df['Lids (Plastic)'] + df['Beverage Bottles (Plastic)'] + df['Beverage Bottles (Glass)'] + df['Beverage Cans']\n",
    "+ df['Grocery Bags (Plastic)'] + df['Other Plastic Bags'] + df['Paper Bags'] + df['Cups, Plates (Paper)']\n",
    "+ df['Cups, Plates (Plastic)'] + df['6-Pack Holders'] + df['Other Plastic Bottles (oil, bleach, etc.)'] \n",
    "+ df['Strapping Bands'] + df['Tobacco Packaging/Wrap'] + df['Fishing Net & Pieces'] + df['Rope (1 yard/meter = 1 piece)']\n",
    "+ df['Tires'] + df['Plastic Pieces']\n",
    "df.drop(['Unnamed: 0'],axis =1)\n",
    "df[\"Total Recyclables\"]"
   ]
  },
  {
   "cell_type": "code",
   "execution_count": null,
   "metadata": {},
   "outputs": [],
   "source": []
  }
 ],
 "metadata": {
  "kernelspec": {
   "display_name": "Python 3",
   "language": "python",
   "name": "python3"
  },
  "language_info": {
   "codemirror_mode": {
    "name": "ipython",
    "version": 3
   },
   "file_extension": ".py",
   "mimetype": "text/x-python",
   "name": "python",
   "nbconvert_exporter": "python",
   "pygments_lexer": "ipython3",
   "version": "3.7.4"
  }
 },
 "nbformat": 4,
 "nbformat_minor": 2
}
