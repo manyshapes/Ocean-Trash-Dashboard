{
 "cells": [
  {
   "cell_type": "code",
   "execution_count": 28,
   "metadata": {},
   "outputs": [],
   "source": [
    "#Neccessary imports\n",
    "\n",
    "import numpy as np\n",
    "import pandas as pd\n",
    "import plotly.graph_objects as go"
   ]
  },
  {
   "cell_type": "code",
   "execution_count": 2,
   "metadata": {},
   "outputs": [
    {
     "name": "stderr",
     "output_type": "stream",
     "text": [
      "/opt/anaconda3/lib/python3.8/site-packages/IPython/core/interactiveshell.py:3071: DtypeWarning: Columns (0) have mixed types.Specify dtype option on import or set low_memory=False.\n",
      "  has_raised = await self.run_ast_nodes(code_ast.body, cell_name,\n"
     ]
    }
   ],
   "source": [
    "#Reading in Datasets\n",
    "Tides_Data= pd.read_csv(\"TIDES_2015-2021.csv\")\n",
    "Blue_Bucket_Data = pd.read_excel(\"Blue_Bucket_data_2015-Aug2021.xlsx\")"
   ]
  },
  {
   "cell_type": "code",
   "execution_count": 5,
   "metadata": {},
   "outputs": [
    {
     "data": {
      "text/html": [
       "<div>\n",
       "<style scoped>\n",
       "    .dataframe tbody tr th:only-of-type {\n",
       "        vertical-align: middle;\n",
       "    }\n",
       "\n",
       "    .dataframe tbody tr th {\n",
       "        vertical-align: top;\n",
       "    }\n",
       "\n",
       "    .dataframe thead th {\n",
       "        text-align: right;\n",
       "    }\n",
       "</style>\n",
       "<table border=\"1\" class=\"dataframe\">\n",
       "  <thead>\n",
       "    <tr style=\"text-align: right;\">\n",
       "      <th></th>\n",
       "      <th>Cleanup ID</th>\n",
       "      <th>Zone</th>\n",
       "      <th>State</th>\n",
       "      <th>Country</th>\n",
       "      <th>GPS</th>\n",
       "      <th>Cleanup Type</th>\n",
       "      <th>Cleanup Date</th>\n",
       "      <th>Group Name</th>\n",
       "      <th>Adults</th>\n",
       "      <th>Children</th>\n",
       "      <th>...</th>\n",
       "      <th>Condoms</th>\n",
       "      <th>Diapers</th>\n",
       "      <th>Syringes</th>\n",
       "      <th>Tampons/Tampon Applicators</th>\n",
       "      <th>Personal Hygiene (Clean Swell)</th>\n",
       "      <th>Gloves &amp; Masks (PPE)</th>\n",
       "      <th>Foam Pieces</th>\n",
       "      <th>Glass Pieces</th>\n",
       "      <th>Plastic Pieces</th>\n",
       "      <th>Total Items Collected</th>\n",
       "    </tr>\n",
       "  </thead>\n",
       "  <tbody>\n",
       "    <tr>\n",
       "      <th>0</th>\n",
       "      <td>596</td>\n",
       "      <td>Del Norte County, CA, USA</td>\n",
       "      <td>California, USA</td>\n",
       "      <td>United States</td>\n",
       "      <td>41.58459, -124.09743</td>\n",
       "      <td>beach</td>\n",
       "      <td>2015-07-29</td>\n",
       "      <td>NaN</td>\n",
       "      <td>1.0</td>\n",
       "      <td>0.0</td>\n",
       "      <td>...</td>\n",
       "      <td>0</td>\n",
       "      <td>0</td>\n",
       "      <td>0</td>\n",
       "      <td>0</td>\n",
       "      <td>0</td>\n",
       "      <td>0</td>\n",
       "      <td>0</td>\n",
       "      <td>0</td>\n",
       "      <td>0</td>\n",
       "      <td>20.0</td>\n",
       "    </tr>\n",
       "    <tr>\n",
       "      <th>1</th>\n",
       "      <td>710</td>\n",
       "      <td>Contra Costa County, CA, USA</td>\n",
       "      <td>California, USA</td>\n",
       "      <td>United States</td>\n",
       "      <td>37.98561, -122.07465</td>\n",
       "      <td>beach</td>\n",
       "      <td>2015-08-12</td>\n",
       "      <td>NaN</td>\n",
       "      <td>1.0</td>\n",
       "      <td>0.0</td>\n",
       "      <td>...</td>\n",
       "      <td>0</td>\n",
       "      <td>0</td>\n",
       "      <td>0</td>\n",
       "      <td>0</td>\n",
       "      <td>0</td>\n",
       "      <td>0</td>\n",
       "      <td>0</td>\n",
       "      <td>0</td>\n",
       "      <td>0</td>\n",
       "      <td>2.0</td>\n",
       "    </tr>\n",
       "    <tr>\n",
       "      <th>2</th>\n",
       "      <td>721</td>\n",
       "      <td>Marin County, CA, USA</td>\n",
       "      <td>California, USA</td>\n",
       "      <td>United States</td>\n",
       "      <td>37.85622, -122.44774</td>\n",
       "      <td>beach</td>\n",
       "      <td>2015-08-20</td>\n",
       "      <td>NaN</td>\n",
       "      <td>1.0</td>\n",
       "      <td>0.0</td>\n",
       "      <td>...</td>\n",
       "      <td>0</td>\n",
       "      <td>0</td>\n",
       "      <td>0</td>\n",
       "      <td>0</td>\n",
       "      <td>0</td>\n",
       "      <td>0</td>\n",
       "      <td>0</td>\n",
       "      <td>0</td>\n",
       "      <td>47</td>\n",
       "      <td>163.0</td>\n",
       "    </tr>\n",
       "    <tr>\n",
       "      <th>3</th>\n",
       "      <td>758</td>\n",
       "      <td>Contra Costa County, CA, USA</td>\n",
       "      <td>California, USA</td>\n",
       "      <td>United States</td>\n",
       "      <td>37.92068, -122.3864</td>\n",
       "      <td>beach</td>\n",
       "      <td>2015-08-20</td>\n",
       "      <td>NaN</td>\n",
       "      <td>1.0</td>\n",
       "      <td>0.0</td>\n",
       "      <td>...</td>\n",
       "      <td>0</td>\n",
       "      <td>0</td>\n",
       "      <td>0</td>\n",
       "      <td>0</td>\n",
       "      <td>1</td>\n",
       "      <td>0</td>\n",
       "      <td>0</td>\n",
       "      <td>0</td>\n",
       "      <td>48</td>\n",
       "      <td>178.0</td>\n",
       "    </tr>\n",
       "    <tr>\n",
       "      <th>4</th>\n",
       "      <td>762</td>\n",
       "      <td>Alameda County, CA, USA</td>\n",
       "      <td>California, USA</td>\n",
       "      <td>United States</td>\n",
       "      <td>37.86021, -122.29011</td>\n",
       "      <td>beach</td>\n",
       "      <td>2015-08-24</td>\n",
       "      <td>NaN</td>\n",
       "      <td>1.0</td>\n",
       "      <td>0.0</td>\n",
       "      <td>...</td>\n",
       "      <td>0</td>\n",
       "      <td>0</td>\n",
       "      <td>0</td>\n",
       "      <td>0</td>\n",
       "      <td>0</td>\n",
       "      <td>0</td>\n",
       "      <td>0</td>\n",
       "      <td>0</td>\n",
       "      <td>0</td>\n",
       "      <td>10.0</td>\n",
       "    </tr>\n",
       "    <tr>\n",
       "      <th>...</th>\n",
       "      <td>...</td>\n",
       "      <td>...</td>\n",
       "      <td>...</td>\n",
       "      <td>...</td>\n",
       "      <td>...</td>\n",
       "      <td>...</td>\n",
       "      <td>...</td>\n",
       "      <td>...</td>\n",
       "      <td>...</td>\n",
       "      <td>...</td>\n",
       "      <td>...</td>\n",
       "      <td>...</td>\n",
       "      <td>...</td>\n",
       "      <td>...</td>\n",
       "      <td>...</td>\n",
       "      <td>...</td>\n",
       "      <td>...</td>\n",
       "      <td>...</td>\n",
       "      <td>...</td>\n",
       "      <td>...</td>\n",
       "      <td>...</td>\n",
       "    </tr>\n",
       "    <tr>\n",
       "      <th>27339</th>\n",
       "      <td>199559</td>\n",
       "      <td>San Luis Obispo County, CA, USA</td>\n",
       "      <td>California, USA</td>\n",
       "      <td>United States</td>\n",
       "      <td>35.54818, -120.70622</td>\n",
       "      <td>beach</td>\n",
       "      <td>2021-09-18</td>\n",
       "      <td>THS FFA Group 4</td>\n",
       "      <td>5.0</td>\n",
       "      <td>0.0</td>\n",
       "      <td>...</td>\n",
       "      <td>0</td>\n",
       "      <td>0</td>\n",
       "      <td>0</td>\n",
       "      <td>0</td>\n",
       "      <td>0</td>\n",
       "      <td>0</td>\n",
       "      <td>0</td>\n",
       "      <td>0</td>\n",
       "      <td>20</td>\n",
       "      <td>356.0</td>\n",
       "    </tr>\n",
       "    <tr>\n",
       "      <th>27340</th>\n",
       "      <td>199561</td>\n",
       "      <td>San Mateo County, CA, USA</td>\n",
       "      <td>California, USA</td>\n",
       "      <td>United States</td>\n",
       "      <td>37.56191, -122.25807</td>\n",
       "      <td>beach</td>\n",
       "      <td>2021-10-12</td>\n",
       "      <td>Carey 2 3 Motiwala</td>\n",
       "      <td>1.0</td>\n",
       "      <td>0.0</td>\n",
       "      <td>...</td>\n",
       "      <td>0</td>\n",
       "      <td>0</td>\n",
       "      <td>0</td>\n",
       "      <td>0</td>\n",
       "      <td>0</td>\n",
       "      <td>0</td>\n",
       "      <td>0</td>\n",
       "      <td>0</td>\n",
       "      <td>0</td>\n",
       "      <td>5.0</td>\n",
       "    </tr>\n",
       "    <tr>\n",
       "      <th>27341</th>\n",
       "      <td>199562</td>\n",
       "      <td>San Mateo County, CA, USA</td>\n",
       "      <td>California, USA</td>\n",
       "      <td>United States</td>\n",
       "      <td>37.56191, -122.25807</td>\n",
       "      <td>beach</td>\n",
       "      <td>2021-10-12</td>\n",
       "      <td>Carey 2 3 Motiwala</td>\n",
       "      <td>1.0</td>\n",
       "      <td>0.0</td>\n",
       "      <td>...</td>\n",
       "      <td>0</td>\n",
       "      <td>0</td>\n",
       "      <td>0</td>\n",
       "      <td>0</td>\n",
       "      <td>0</td>\n",
       "      <td>0</td>\n",
       "      <td>0</td>\n",
       "      <td>0</td>\n",
       "      <td>0</td>\n",
       "      <td>5.0</td>\n",
       "    </tr>\n",
       "    <tr>\n",
       "      <th>27342</th>\n",
       "      <td>199563</td>\n",
       "      <td>San Mateo County, CA, USA</td>\n",
       "      <td>California, USA</td>\n",
       "      <td>United States</td>\n",
       "      <td>37.56191, -122.25807</td>\n",
       "      <td>beach</td>\n",
       "      <td>2021-10-12</td>\n",
       "      <td>Carey 2 3 Motiwala</td>\n",
       "      <td>1.0</td>\n",
       "      <td>0.0</td>\n",
       "      <td>...</td>\n",
       "      <td>0</td>\n",
       "      <td>0</td>\n",
       "      <td>0</td>\n",
       "      <td>0</td>\n",
       "      <td>0</td>\n",
       "      <td>0</td>\n",
       "      <td>0</td>\n",
       "      <td>0</td>\n",
       "      <td>0</td>\n",
       "      <td>5.0</td>\n",
       "    </tr>\n",
       "    <tr>\n",
       "      <th>27343</th>\n",
       "      <td>Totals:</td>\n",
       "      <td>NaN</td>\n",
       "      <td>NaN</td>\n",
       "      <td>NaN</td>\n",
       "      <td>NaN</td>\n",
       "      <td>NaN</td>\n",
       "      <td>NaN</td>\n",
       "      <td>NaN</td>\n",
       "      <td>NaN</td>\n",
       "      <td>NaN</td>\n",
       "      <td>...</td>\n",
       "      <td>4565</td>\n",
       "      <td>3427</td>\n",
       "      <td>3918</td>\n",
       "      <td>4460</td>\n",
       "      <td>37094</td>\n",
       "      <td>34226</td>\n",
       "      <td>344433</td>\n",
       "      <td>183958</td>\n",
       "      <td>1117448</td>\n",
       "      <td>NaN</td>\n",
       "    </tr>\n",
       "  </tbody>\n",
       "</table>\n",
       "<p>27344 rows × 65 columns</p>\n",
       "</div>"
      ],
      "text/plain": [
       "      Cleanup ID                             Zone            State  \\\n",
       "0            596        Del Norte County, CA, USA  California, USA   \n",
       "1            710     Contra Costa County, CA, USA  California, USA   \n",
       "2            721            Marin County, CA, USA  California, USA   \n",
       "3            758     Contra Costa County, CA, USA  California, USA   \n",
       "4            762          Alameda County, CA, USA  California, USA   \n",
       "...          ...                              ...              ...   \n",
       "27339     199559  San Luis Obispo County, CA, USA  California, USA   \n",
       "27340     199561        San Mateo County, CA, USA  California, USA   \n",
       "27341     199562        San Mateo County, CA, USA  California, USA   \n",
       "27342     199563        San Mateo County, CA, USA  California, USA   \n",
       "27343    Totals:                              NaN              NaN   \n",
       "\n",
       "             Country                   GPS Cleanup Type Cleanup Date  \\\n",
       "0      United States  41.58459, -124.09743        beach   2015-07-29   \n",
       "1      United States  37.98561, -122.07465        beach   2015-08-12   \n",
       "2      United States  37.85622, -122.44774        beach   2015-08-20   \n",
       "3      United States   37.92068, -122.3864        beach   2015-08-20   \n",
       "4      United States  37.86021, -122.29011        beach   2015-08-24   \n",
       "...              ...                   ...          ...          ...   \n",
       "27339  United States  35.54818, -120.70622        beach   2021-09-18   \n",
       "27340  United States  37.56191, -122.25807        beach   2021-10-12   \n",
       "27341  United States  37.56191, -122.25807        beach   2021-10-12   \n",
       "27342  United States  37.56191, -122.25807        beach   2021-10-12   \n",
       "27343            NaN                   NaN          NaN          NaN   \n",
       "\n",
       "               Group Name  Adults  Children  ...  Condoms  Diapers  Syringes  \\\n",
       "0                     NaN     1.0       0.0  ...        0        0         0   \n",
       "1                     NaN     1.0       0.0  ...        0        0         0   \n",
       "2                     NaN     1.0       0.0  ...        0        0         0   \n",
       "3                     NaN     1.0       0.0  ...        0        0         0   \n",
       "4                     NaN     1.0       0.0  ...        0        0         0   \n",
       "...                   ...     ...       ...  ...      ...      ...       ...   \n",
       "27339     THS FFA Group 4     5.0       0.0  ...        0        0         0   \n",
       "27340  Carey 2 3 Motiwala     1.0       0.0  ...        0        0         0   \n",
       "27341  Carey 2 3 Motiwala     1.0       0.0  ...        0        0         0   \n",
       "27342  Carey 2 3 Motiwala     1.0       0.0  ...        0        0         0   \n",
       "27343                 NaN     NaN       NaN  ...     4565     3427      3918   \n",
       "\n",
       "       Tampons/Tampon Applicators  Personal Hygiene (Clean Swell)  \\\n",
       "0                               0                               0   \n",
       "1                               0                               0   \n",
       "2                               0                               0   \n",
       "3                               0                               1   \n",
       "4                               0                               0   \n",
       "...                           ...                             ...   \n",
       "27339                           0                               0   \n",
       "27340                           0                               0   \n",
       "27341                           0                               0   \n",
       "27342                           0                               0   \n",
       "27343                        4460                           37094   \n",
       "\n",
       "       Gloves & Masks (PPE)  Foam Pieces  Glass Pieces  Plastic Pieces  \\\n",
       "0                         0            0             0               0   \n",
       "1                         0            0             0               0   \n",
       "2                         0            0             0              47   \n",
       "3                         0            0             0              48   \n",
       "4                         0            0             0               0   \n",
       "...                     ...          ...           ...             ...   \n",
       "27339                     0            0             0              20   \n",
       "27340                     0            0             0               0   \n",
       "27341                     0            0             0               0   \n",
       "27342                     0            0             0               0   \n",
       "27343                 34226       344433        183958         1117448   \n",
       "\n",
       "       Total Items Collected  \n",
       "0                       20.0  \n",
       "1                        2.0  \n",
       "2                      163.0  \n",
       "3                      178.0  \n",
       "4                       10.0  \n",
       "...                      ...  \n",
       "27339                  356.0  \n",
       "27340                    5.0  \n",
       "27341                    5.0  \n",
       "27342                    5.0  \n",
       "27343                    NaN  \n",
       "\n",
       "[27344 rows x 65 columns]"
      ]
     },
     "execution_count": 5,
     "metadata": {},
     "output_type": "execute_result"
    }
   ],
   "source": [
    "#Revealing the dataset provided by Tides\n",
    "Tides_Data"
   ]
  },
  {
   "cell_type": "code",
   "execution_count": 6,
   "metadata": {},
   "outputs": [
    {
     "data": {
      "text/html": [
       "<div>\n",
       "<style scoped>\n",
       "    .dataframe tbody tr th:only-of-type {\n",
       "        vertical-align: middle;\n",
       "    }\n",
       "\n",
       "    .dataframe tbody tr th {\n",
       "        vertical-align: top;\n",
       "    }\n",
       "\n",
       "    .dataframe thead th {\n",
       "        text-align: right;\n",
       "    }\n",
       "</style>\n",
       "<table border=\"1\" class=\"dataframe\">\n",
       "  <thead>\n",
       "    <tr style=\"text-align: right;\">\n",
       "      <th></th>\n",
       "      <th>Cleanup ID</th>\n",
       "      <th>Zone</th>\n",
       "      <th>State</th>\n",
       "      <th>Country</th>\n",
       "      <th>GPS</th>\n",
       "      <th>Cleanup Type</th>\n",
       "      <th>Cleanup Date</th>\n",
       "      <th>Month</th>\n",
       "      <th>Year</th>\n",
       "      <th>Group Name</th>\n",
       "      <th>...</th>\n",
       "      <th>Syringes</th>\n",
       "      <th>Tampons/Tampon Applicators</th>\n",
       "      <th>Personal Hygiene (Clean Swell)</th>\n",
       "      <th>Gloves &amp; Masks (PPE)</th>\n",
       "      <th>Foam Pieces</th>\n",
       "      <th>Glass Pieces</th>\n",
       "      <th>Plastic Pieces</th>\n",
       "      <th>Total Items Collected</th>\n",
       "      <th>Unnamed: 67</th>\n",
       "      <th>Unnamed: 68</th>\n",
       "    </tr>\n",
       "  </thead>\n",
       "  <tbody>\n",
       "    <tr>\n",
       "      <th>0</th>\n",
       "      <td>120220</td>\n",
       "      <td>San Mateo County, CA, USA</td>\n",
       "      <td>California, USA</td>\n",
       "      <td>United States</td>\n",
       "      <td>37.65187, -122.484</td>\n",
       "      <td>Land (beach, shoreline and inland)</td>\n",
       "      <td>2020-05-12</td>\n",
       "      <td>5</td>\n",
       "      <td>2020</td>\n",
       "      <td>Pacific beach coalition</td>\n",
       "      <td>...</td>\n",
       "      <td>0</td>\n",
       "      <td>0</td>\n",
       "      <td>0</td>\n",
       "      <td>0</td>\n",
       "      <td>0</td>\n",
       "      <td>0</td>\n",
       "      <td>0</td>\n",
       "      <td>0</td>\n",
       "      <td>NaN</td>\n",
       "      <td>NaN</td>\n",
       "    </tr>\n",
       "    <tr>\n",
       "      <th>1</th>\n",
       "      <td>120222</td>\n",
       "      <td>San Mateo County, CA, USA</td>\n",
       "      <td>California, USA</td>\n",
       "      <td>United States</td>\n",
       "      <td>37.65174, -122.484</td>\n",
       "      <td>Land (beach, shoreline and inland)</td>\n",
       "      <td>2020-05-12</td>\n",
       "      <td>5</td>\n",
       "      <td>2020</td>\n",
       "      <td>Pacific beach coalition</td>\n",
       "      <td>...</td>\n",
       "      <td>0</td>\n",
       "      <td>0</td>\n",
       "      <td>0</td>\n",
       "      <td>0</td>\n",
       "      <td>0</td>\n",
       "      <td>0</td>\n",
       "      <td>0</td>\n",
       "      <td>5</td>\n",
       "      <td>NaN</td>\n",
       "      <td>NaN</td>\n",
       "    </tr>\n",
       "    <tr>\n",
       "      <th>2</th>\n",
       "      <td>122555</td>\n",
       "      <td>San Mateo County, CA, USA</td>\n",
       "      <td>California, USA</td>\n",
       "      <td>United States</td>\n",
       "      <td>37.5992, -122.50073</td>\n",
       "      <td>Land (beach, shoreline and inland)</td>\n",
       "      <td>2020-05-15</td>\n",
       "      <td>5</td>\n",
       "      <td>2020</td>\n",
       "      <td>Pacific beach coalition</td>\n",
       "      <td>...</td>\n",
       "      <td>0</td>\n",
       "      <td>0</td>\n",
       "      <td>2</td>\n",
       "      <td>0</td>\n",
       "      <td>0</td>\n",
       "      <td>0</td>\n",
       "      <td>0</td>\n",
       "      <td>16</td>\n",
       "      <td>NaN</td>\n",
       "      <td>NaN</td>\n",
       "    </tr>\n",
       "    <tr>\n",
       "      <th>3</th>\n",
       "      <td>122565</td>\n",
       "      <td>San Mateo County, CA, USA</td>\n",
       "      <td>California, USA</td>\n",
       "      <td>United States</td>\n",
       "      <td>37.64923, -122.49027</td>\n",
       "      <td>Land (beach, shoreline and inland)</td>\n",
       "      <td>2020-05-15</td>\n",
       "      <td>5</td>\n",
       "      <td>2020</td>\n",
       "      <td>Pacific beach coalition</td>\n",
       "      <td>...</td>\n",
       "      <td>0</td>\n",
       "      <td>0</td>\n",
       "      <td>0</td>\n",
       "      <td>0</td>\n",
       "      <td>0</td>\n",
       "      <td>0</td>\n",
       "      <td>0</td>\n",
       "      <td>7</td>\n",
       "      <td>NaN</td>\n",
       "      <td>NaN</td>\n",
       "    </tr>\n",
       "    <tr>\n",
       "      <th>4</th>\n",
       "      <td>122580</td>\n",
       "      <td>San Mateo County, CA, USA</td>\n",
       "      <td>California, USA</td>\n",
       "      <td>United States</td>\n",
       "      <td>37.6516, -122.48413</td>\n",
       "      <td>Land (beach, shoreline and inland)</td>\n",
       "      <td>2020-05-15</td>\n",
       "      <td>5</td>\n",
       "      <td>2020</td>\n",
       "      <td>Pacific beach coalition</td>\n",
       "      <td>...</td>\n",
       "      <td>0</td>\n",
       "      <td>0</td>\n",
       "      <td>0</td>\n",
       "      <td>0</td>\n",
       "      <td>0</td>\n",
       "      <td>0</td>\n",
       "      <td>3</td>\n",
       "      <td>36</td>\n",
       "      <td>NaN</td>\n",
       "      <td>NaN</td>\n",
       "    </tr>\n",
       "    <tr>\n",
       "      <th>...</th>\n",
       "      <td>...</td>\n",
       "      <td>...</td>\n",
       "      <td>...</td>\n",
       "      <td>...</td>\n",
       "      <td>...</td>\n",
       "      <td>...</td>\n",
       "      <td>...</td>\n",
       "      <td>...</td>\n",
       "      <td>...</td>\n",
       "      <td>...</td>\n",
       "      <td>...</td>\n",
       "      <td>...</td>\n",
       "      <td>...</td>\n",
       "      <td>...</td>\n",
       "      <td>...</td>\n",
       "      <td>...</td>\n",
       "      <td>...</td>\n",
       "      <td>...</td>\n",
       "      <td>...</td>\n",
       "      <td>...</td>\n",
       "      <td>...</td>\n",
       "    </tr>\n",
       "    <tr>\n",
       "      <th>3408</th>\n",
       "      <td>177692</td>\n",
       "      <td>Monterey County, CA, USA</td>\n",
       "      <td>California, USA</td>\n",
       "      <td>United States</td>\n",
       "      <td>36.60046, -121.88872</td>\n",
       "      <td>Land (beach, shoreline and inland)</td>\n",
       "      <td>2021-07-31</td>\n",
       "      <td>7</td>\n",
       "      <td>2021</td>\n",
       "      <td>Pacific Beach Coalition- CCF</td>\n",
       "      <td>...</td>\n",
       "      <td>0</td>\n",
       "      <td>0</td>\n",
       "      <td>0</td>\n",
       "      <td>0</td>\n",
       "      <td>0</td>\n",
       "      <td>0</td>\n",
       "      <td>0</td>\n",
       "      <td>1</td>\n",
       "      <td>NaN</td>\n",
       "      <td>NaN</td>\n",
       "    </tr>\n",
       "    <tr>\n",
       "      <th>3409</th>\n",
       "      <td>177700</td>\n",
       "      <td>Monterey County, CA, USA</td>\n",
       "      <td>California, USA</td>\n",
       "      <td>United States</td>\n",
       "      <td>36.60049, -121.88882</td>\n",
       "      <td>Land (beach, shoreline and inland)</td>\n",
       "      <td>2021-07-31</td>\n",
       "      <td>7</td>\n",
       "      <td>2021</td>\n",
       "      <td>Pacific Beach Coalition-CCF</td>\n",
       "      <td>...</td>\n",
       "      <td>0</td>\n",
       "      <td>0</td>\n",
       "      <td>0</td>\n",
       "      <td>1</td>\n",
       "      <td>0</td>\n",
       "      <td>0</td>\n",
       "      <td>32</td>\n",
       "      <td>119</td>\n",
       "      <td>NaN</td>\n",
       "      <td>NaN</td>\n",
       "    </tr>\n",
       "    <tr>\n",
       "      <th>3410</th>\n",
       "      <td>177718</td>\n",
       "      <td>San Mateo County, CA, USA</td>\n",
       "      <td>California, USA</td>\n",
       "      <td>United States</td>\n",
       "      <td>37.4985, -122.46657</td>\n",
       "      <td>Land (beach, shoreline and inland)</td>\n",
       "      <td>2021-07-31</td>\n",
       "      <td>7</td>\n",
       "      <td>2021</td>\n",
       "      <td>NaN</td>\n",
       "      <td>...</td>\n",
       "      <td>0</td>\n",
       "      <td>0</td>\n",
       "      <td>0</td>\n",
       "      <td>0</td>\n",
       "      <td>0</td>\n",
       "      <td>0</td>\n",
       "      <td>4</td>\n",
       "      <td>27</td>\n",
       "      <td>NaN</td>\n",
       "      <td>NaN</td>\n",
       "    </tr>\n",
       "    <tr>\n",
       "      <th>3411</th>\n",
       "      <td>177747</td>\n",
       "      <td>San Mateo County, CA, USA</td>\n",
       "      <td>California, USA</td>\n",
       "      <td>United States</td>\n",
       "      <td>37.57875, -122.50652</td>\n",
       "      <td>Land (beach, shoreline and inland)</td>\n",
       "      <td>2021-07-31</td>\n",
       "      <td>7</td>\n",
       "      <td>2021</td>\n",
       "      <td>Pacifica Beach Coalition</td>\n",
       "      <td>...</td>\n",
       "      <td>0</td>\n",
       "      <td>0</td>\n",
       "      <td>0</td>\n",
       "      <td>1</td>\n",
       "      <td>0</td>\n",
       "      <td>0</td>\n",
       "      <td>1</td>\n",
       "      <td>7</td>\n",
       "      <td>NaN</td>\n",
       "      <td>NaN</td>\n",
       "    </tr>\n",
       "    <tr>\n",
       "      <th>3412</th>\n",
       "      <td>177719</td>\n",
       "      <td>San Mateo County, CA, USA</td>\n",
       "      <td>California, USA</td>\n",
       "      <td>United States</td>\n",
       "      <td>37.5888953, -122.3609298</td>\n",
       "      <td>Land (beach, shoreline and inland)</td>\n",
       "      <td>2021-07-31</td>\n",
       "      <td>7</td>\n",
       "      <td>2021</td>\n",
       "      <td>NaN</td>\n",
       "      <td>...</td>\n",
       "      <td>0</td>\n",
       "      <td>0</td>\n",
       "      <td>0</td>\n",
       "      <td>0</td>\n",
       "      <td>0</td>\n",
       "      <td>0</td>\n",
       "      <td>0</td>\n",
       "      <td>0</td>\n",
       "      <td>NaN</td>\n",
       "      <td>NaN</td>\n",
       "    </tr>\n",
       "  </tbody>\n",
       "</table>\n",
       "<p>3413 rows × 69 columns</p>\n",
       "</div>"
      ],
      "text/plain": [
       "      Cleanup ID                       Zone            State        Country  \\\n",
       "0         120220  San Mateo County, CA, USA  California, USA  United States   \n",
       "1         120222  San Mateo County, CA, USA  California, USA  United States   \n",
       "2         122555  San Mateo County, CA, USA  California, USA  United States   \n",
       "3         122565  San Mateo County, CA, USA  California, USA  United States   \n",
       "4         122580  San Mateo County, CA, USA  California, USA  United States   \n",
       "...          ...                        ...              ...            ...   \n",
       "3408      177692   Monterey County, CA, USA  California, USA  United States   \n",
       "3409      177700   Monterey County, CA, USA  California, USA  United States   \n",
       "3410      177718  San Mateo County, CA, USA  California, USA  United States   \n",
       "3411      177747  San Mateo County, CA, USA  California, USA  United States   \n",
       "3412      177719  San Mateo County, CA, USA  California, USA  United States   \n",
       "\n",
       "                           GPS                        Cleanup Type  \\\n",
       "0           37.65187, -122.484  Land (beach, shoreline and inland)   \n",
       "1           37.65174, -122.484  Land (beach, shoreline and inland)   \n",
       "2          37.5992, -122.50073  Land (beach, shoreline and inland)   \n",
       "3         37.64923, -122.49027  Land (beach, shoreline and inland)   \n",
       "4          37.6516, -122.48413  Land (beach, shoreline and inland)   \n",
       "...                        ...                                 ...   \n",
       "3408      36.60046, -121.88872  Land (beach, shoreline and inland)   \n",
       "3409      36.60049, -121.88882  Land (beach, shoreline and inland)   \n",
       "3410       37.4985, -122.46657  Land (beach, shoreline and inland)   \n",
       "3411      37.57875, -122.50652  Land (beach, shoreline and inland)   \n",
       "3412  37.5888953, -122.3609298  Land (beach, shoreline and inland)   \n",
       "\n",
       "     Cleanup Date  Month  Year                    Group Name  ...  Syringes  \\\n",
       "0      2020-05-12      5  2020       Pacific beach coalition  ...         0   \n",
       "1      2020-05-12      5  2020       Pacific beach coalition  ...         0   \n",
       "2      2020-05-15      5  2020       Pacific beach coalition  ...         0   \n",
       "3      2020-05-15      5  2020       Pacific beach coalition  ...         0   \n",
       "4      2020-05-15      5  2020       Pacific beach coalition  ...         0   \n",
       "...           ...    ...   ...                           ...  ...       ...   \n",
       "3408   2021-07-31      7  2021  Pacific Beach Coalition- CCF  ...         0   \n",
       "3409   2021-07-31      7  2021   Pacific Beach Coalition-CCF  ...         0   \n",
       "3410   2021-07-31      7  2021                           NaN  ...         0   \n",
       "3411   2021-07-31      7  2021      Pacifica Beach Coalition  ...         0   \n",
       "3412   2021-07-31      7  2021                           NaN  ...         0   \n",
       "\n",
       "      Tampons/Tampon Applicators  Personal Hygiene (Clean Swell)  \\\n",
       "0                              0                               0   \n",
       "1                              0                               0   \n",
       "2                              0                               2   \n",
       "3                              0                               0   \n",
       "4                              0                               0   \n",
       "...                          ...                             ...   \n",
       "3408                           0                               0   \n",
       "3409                           0                               0   \n",
       "3410                           0                               0   \n",
       "3411                           0                               0   \n",
       "3412                           0                               0   \n",
       "\n",
       "      Gloves & Masks (PPE)  Foam Pieces  Glass Pieces  Plastic Pieces  \\\n",
       "0                        0            0             0               0   \n",
       "1                        0            0             0               0   \n",
       "2                        0            0             0               0   \n",
       "3                        0            0             0               0   \n",
       "4                        0            0             0               3   \n",
       "...                    ...          ...           ...             ...   \n",
       "3408                     0            0             0               0   \n",
       "3409                     1            0             0              32   \n",
       "3410                     0            0             0               4   \n",
       "3411                     1            0             0               1   \n",
       "3412                     0            0             0               0   \n",
       "\n",
       "      Total Items Collected  Unnamed: 67  Unnamed: 68  \n",
       "0                         0          NaN          NaN  \n",
       "1                         5          NaN          NaN  \n",
       "2                        16          NaN          NaN  \n",
       "3                         7          NaN          NaN  \n",
       "4                        36          NaN          NaN  \n",
       "...                     ...          ...          ...  \n",
       "3408                      1          NaN          NaN  \n",
       "3409                    119          NaN          NaN  \n",
       "3410                     27          NaN          NaN  \n",
       "3411                      7          NaN          NaN  \n",
       "3412                      0          NaN          NaN  \n",
       "\n",
       "[3413 rows x 69 columns]"
      ]
     },
     "execution_count": 6,
     "metadata": {},
     "output_type": "execute_result"
    }
   ],
   "source": [
    "#Revealing the dataset provided by Blue Bucket\n",
    "Blue_Bucket_Data"
   ]
  },
  {
   "cell_type": "code",
   "execution_count": 7,
   "metadata": {},
   "outputs": [
    {
     "data": {
      "text/plain": [
       "['Cleanup ID',\n",
       " 'Zone',\n",
       " 'State',\n",
       " 'Country',\n",
       " 'GPS',\n",
       " 'Cleanup Type',\n",
       " 'Cleanup Date',\n",
       " 'Group Name',\n",
       " 'Adults',\n",
       " 'Children',\n",
       " 'People',\n",
       " 'Pounds',\n",
       " 'Miles',\n",
       " '# of bags',\n",
       " 'Cigarette Butts',\n",
       " 'Food Wrappers (candy, chips, etc.)',\n",
       " 'Take Out/Away Containers (Plastic)',\n",
       " 'Take Out/Away Containers (Foam)',\n",
       " 'Bottle Caps (Plastic)',\n",
       " 'Bottle Caps (Metal)',\n",
       " 'Lids (Plastic)',\n",
       " 'Straws, Stirrers',\n",
       " 'Forks, Knives, Spoons',\n",
       " 'Beverage Bottles (Plastic)',\n",
       " 'Beverage Bottles (Glass)',\n",
       " 'Beverage Cans',\n",
       " 'Grocery Bags (Plastic)',\n",
       " 'Other Plastic Bags',\n",
       " 'Paper Bags',\n",
       " 'Cups, Plates (Paper)',\n",
       " 'Cups, Plates (Plastic)',\n",
       " 'Cups, Plates (Foam)',\n",
       " 'Fishing Buoys, Pots & Traps',\n",
       " 'Fishing Net & Pieces',\n",
       " 'Fishing Line (1 yard/meter = 1 piece)',\n",
       " 'Rope (1 yard/meter = 1 piece)',\n",
       " 'Fishing Gear (Clean Swell)',\n",
       " '6-Pack Holders',\n",
       " 'Other Plastic/Foam Packaging',\n",
       " 'Other Plastic Bottles (oil, bleach, etc.)',\n",
       " 'Strapping Bands',\n",
       " 'Tobacco Packaging/Wrap',\n",
       " 'Other Packaging (Clean Swell)',\n",
       " 'Beverages Sachets',\n",
       " 'Appliances (refrigerators, washers, etc.)',\n",
       " 'Balloons',\n",
       " 'Cigar Tips',\n",
       " 'Cigarette Lighters',\n",
       " 'Construction Materials',\n",
       " 'Fireworks',\n",
       " 'Tires',\n",
       " 'Toys',\n",
       " 'Other Trash (Clean Swell)',\n",
       " 'E-cigarettes',\n",
       " 'Other tobacco (packaging, lighter, etc.)',\n",
       " 'Condoms',\n",
       " 'Diapers',\n",
       " 'Syringes',\n",
       " 'Tampons/Tampon Applicators',\n",
       " 'Personal Hygiene (Clean Swell)',\n",
       " 'Gloves & Masks (PPE)',\n",
       " 'Foam Pieces',\n",
       " 'Glass Pieces',\n",
       " 'Plastic Pieces',\n",
       " 'Total Items Collected']"
      ]
     },
     "execution_count": 7,
     "metadata": {},
     "output_type": "execute_result"
    }
   ],
   "source": [
    "#The columns of the Tides dataset\n",
    "list(Tides_Data.columns)"
   ]
  },
  {
   "cell_type": "code",
   "execution_count": 8,
   "metadata": {},
   "outputs": [
    {
     "data": {
      "text/plain": [
       "['Cleanup ID',\n",
       " 'Zone',\n",
       " 'State',\n",
       " 'Country',\n",
       " 'GPS',\n",
       " 'Cleanup Type',\n",
       " 'Cleanup Date',\n",
       " 'Month',\n",
       " 'Year',\n",
       " 'Group Name',\n",
       " 'Adults',\n",
       " 'Children',\n",
       " 'People',\n",
       " 'Pounds',\n",
       " 'Miles',\n",
       " '# of bags',\n",
       " 'Cigarette Butts',\n",
       " 'Food Wrappers (candy, chips, etc.)',\n",
       " 'Take Out/Away Containers (Plastic)',\n",
       " 'Take Out/Away Containers (Foam)',\n",
       " 'Bottle Caps (Plastic)',\n",
       " 'Bottle Caps (Metal)',\n",
       " 'Lids (Plastic)',\n",
       " 'Straws, Stirrers',\n",
       " 'Forks, Knives, Spoons',\n",
       " 'Beverage Bottles (Plastic)',\n",
       " 'Beverage Bottles (Glass)',\n",
       " 'Beverage Cans',\n",
       " 'Grocery Bags (Plastic)',\n",
       " 'Other Plastic Bags',\n",
       " 'Paper Bags',\n",
       " 'Cups, Plates (Paper)',\n",
       " 'Cups, Plates (Plastic)',\n",
       " 'Cups, Plates (Foam)',\n",
       " 'Fishing Buoys, Pots & Traps',\n",
       " 'Fishing Net & Pieces',\n",
       " 'Fishing Line (1 yard/meter = 1 piece)',\n",
       " 'Rope (1 yard/meter = 1 piece)',\n",
       " 'Fishing Gear (Clean Swell)',\n",
       " '6-Pack Holders',\n",
       " 'Other Plastic/Foam Packaging',\n",
       " 'Other Plastic Bottles (oil, bleach, etc.)',\n",
       " 'Strapping Bands',\n",
       " 'Tobacco Packaging/Wrap',\n",
       " 'Other Packaging (Clean Swell)',\n",
       " 'Beverages Sachets',\n",
       " 'Appliances (refrigerators, washers, etc.)',\n",
       " 'Balloons',\n",
       " 'Cigar Tips',\n",
       " 'Cigarette Lighters',\n",
       " 'Construction Materials',\n",
       " 'Fireworks',\n",
       " 'Tires',\n",
       " 'Toys',\n",
       " 'Other Trash (Clean Swell)',\n",
       " 'E-cigarettes',\n",
       " 'Other tobacco (packaging, lighter, etc.)',\n",
       " 'Condoms',\n",
       " 'Diapers',\n",
       " 'Syringes',\n",
       " 'Tampons/Tampon Applicators',\n",
       " 'Personal Hygiene (Clean Swell)',\n",
       " 'Gloves & Masks (PPE)',\n",
       " 'Foam Pieces',\n",
       " 'Glass Pieces',\n",
       " 'Plastic Pieces',\n",
       " 'Total Items Collected',\n",
       " 'Unnamed: 67',\n",
       " 'Unnamed: 68']"
      ]
     },
     "execution_count": 8,
     "metadata": {},
     "output_type": "execute_result"
    }
   ],
   "source": [
    "#The columns of the Blue Bucket dataset\n",
    "list(Blue_Bucket_Data.columns)"
   ]
  },
  {
   "cell_type": "code",
   "execution_count": 13,
   "metadata": {},
   "outputs": [
    {
     "data": {
      "text/plain": [
       "(False, False, False, False)"
      ]
     },
     "execution_count": 13,
     "metadata": {},
     "output_type": "execute_result"
    }
   ],
   "source": [
    "#After reading the columns of the Blue Bucket dataset, we realized that Blue Buckets has the same column names as\n",
    "#the Tides dataset except for 4 additional column names which have been listed in this cell.\n",
    "\"Year\" in Tides_Data, \"Month\" in Tides_Data, \"Unnamed: 67\" in Tides_Data, \"Unnamed: 68\" in Tides_Data"
   ]
  },
  {
   "cell_type": "code",
   "execution_count": 14,
   "metadata": {},
   "outputs": [],
   "source": [
    "#Two of those columns are not needed so they can be removed from the dataset\n",
    "Blue_Bucket_Data_cleaned = Blue_Bucket_Data.drop(columns=[\"Unnamed: 67\", \"Unnamed: 68\"])"
   ]
  },
  {
   "cell_type": "code",
   "execution_count": 15,
   "metadata": {},
   "outputs": [
    {
     "data": {
      "text/plain": [
       "['Cleanup ID',\n",
       " 'Zone',\n",
       " 'State',\n",
       " 'Country',\n",
       " 'GPS',\n",
       " 'Cleanup Type',\n",
       " 'Cleanup Date',\n",
       " 'Month',\n",
       " 'Year',\n",
       " 'Group Name',\n",
       " 'Adults',\n",
       " 'Children',\n",
       " 'People',\n",
       " 'Pounds',\n",
       " 'Miles',\n",
       " '# of bags',\n",
       " 'Cigarette Butts',\n",
       " 'Food Wrappers (candy, chips, etc.)',\n",
       " 'Take Out/Away Containers (Plastic)',\n",
       " 'Take Out/Away Containers (Foam)',\n",
       " 'Bottle Caps (Plastic)',\n",
       " 'Bottle Caps (Metal)',\n",
       " 'Lids (Plastic)',\n",
       " 'Straws, Stirrers',\n",
       " 'Forks, Knives, Spoons',\n",
       " 'Beverage Bottles (Plastic)',\n",
       " 'Beverage Bottles (Glass)',\n",
       " 'Beverage Cans',\n",
       " 'Grocery Bags (Plastic)',\n",
       " 'Other Plastic Bags',\n",
       " 'Paper Bags',\n",
       " 'Cups, Plates (Paper)',\n",
       " 'Cups, Plates (Plastic)',\n",
       " 'Cups, Plates (Foam)',\n",
       " 'Fishing Buoys, Pots & Traps',\n",
       " 'Fishing Net & Pieces',\n",
       " 'Fishing Line (1 yard/meter = 1 piece)',\n",
       " 'Rope (1 yard/meter = 1 piece)',\n",
       " 'Fishing Gear (Clean Swell)',\n",
       " '6-Pack Holders',\n",
       " 'Other Plastic/Foam Packaging',\n",
       " 'Other Plastic Bottles (oil, bleach, etc.)',\n",
       " 'Strapping Bands',\n",
       " 'Tobacco Packaging/Wrap',\n",
       " 'Other Packaging (Clean Swell)',\n",
       " 'Beverages Sachets',\n",
       " 'Appliances (refrigerators, washers, etc.)',\n",
       " 'Balloons',\n",
       " 'Cigar Tips',\n",
       " 'Cigarette Lighters',\n",
       " 'Construction Materials',\n",
       " 'Fireworks',\n",
       " 'Tires',\n",
       " 'Toys',\n",
       " 'Other Trash (Clean Swell)',\n",
       " 'E-cigarettes',\n",
       " 'Other tobacco (packaging, lighter, etc.)',\n",
       " 'Condoms',\n",
       " 'Diapers',\n",
       " 'Syringes',\n",
       " 'Tampons/Tampon Applicators',\n",
       " 'Personal Hygiene (Clean Swell)',\n",
       " 'Gloves & Masks (PPE)',\n",
       " 'Foam Pieces',\n",
       " 'Glass Pieces',\n",
       " 'Plastic Pieces',\n",
       " 'Total Items Collected']"
      ]
     },
     "execution_count": 15,
     "metadata": {},
     "output_type": "execute_result"
    }
   ],
   "source": [
    "list(Blue_Bucket_Data_cleaned.columns)"
   ]
  },
  {
   "cell_type": "code",
   "execution_count": 16,
   "metadata": {},
   "outputs": [
    {
     "data": {
      "text/plain": [
       "67"
      ]
     },
     "execution_count": 16,
     "metadata": {},
     "output_type": "execute_result"
    }
   ],
   "source": [
    "len(Blue_Bucket_Data_cleaned.columns)"
   ]
  },
  {
   "cell_type": "code",
   "execution_count": 17,
   "metadata": {},
   "outputs": [],
   "source": [
    "#The other two columns that Blue Bucket has, \"Month\" and \"Year\", actually provide some useful information, but\n",
    "#the Tides dataset does not have these columns, so we will have to add in some filler column names with the same names\n",
    "#to align the two datasets\n",
    "Tides_Data[\"Month\"] = [float(\"NaN\") for element in range(0,27344)]\n",
    "Tides_Data[\"Year\"] = [float(\"NaN\") for element in range(0,27344)]"
   ]
  },
  {
   "cell_type": "code",
   "execution_count": 18,
   "metadata": {},
   "outputs": [
    {
     "name": "stdout",
     "output_type": "stream",
     "text": [
      "Tide's shape: (27344, 67)\n",
      "Blue Bucket's shape: (3413, 67)\n",
      "Number of columns in Tides: 67\n",
      "Number of columns in Blue Bucket: 67\n"
     ]
    }
   ],
   "source": [
    "#Showing the shapes of the modified Tides and Blue Bucket dataframes with the same number of columns now\n",
    "print(\"Tide's shape: \" + str(Tides_Data.shape)) \n",
    "print(\"Blue Bucket's shape: \" + str(Blue_Bucket_Data_cleaned.shape))\n",
    "print(\"Number of columns in Tides: \" + str(Tides_Data.shape[1]))\n",
    "print(\"Number of columns in Blue Bucket: \" + str(Blue_Bucket_Data_cleaned.shape[1]))"
   ]
  },
  {
   "cell_type": "code",
   "execution_count": 19,
   "metadata": {
    "scrolled": true
   },
   "outputs": [],
   "source": [
    "#Merging the Tides and Blue Bucket dataframes\n",
    "Tides_and_Blue_Bucket = Tides_Data.append(Blue_Bucket_Data_cleaned, sort=False)"
   ]
  },
  {
   "cell_type": "code",
   "execution_count": 20,
   "metadata": {},
   "outputs": [
    {
     "data": {
      "text/html": [
       "<div>\n",
       "<style scoped>\n",
       "    .dataframe tbody tr th:only-of-type {\n",
       "        vertical-align: middle;\n",
       "    }\n",
       "\n",
       "    .dataframe tbody tr th {\n",
       "        vertical-align: top;\n",
       "    }\n",
       "\n",
       "    .dataframe thead th {\n",
       "        text-align: right;\n",
       "    }\n",
       "</style>\n",
       "<table border=\"1\" class=\"dataframe\">\n",
       "  <thead>\n",
       "    <tr style=\"text-align: right;\">\n",
       "      <th></th>\n",
       "      <th>Cleanup ID</th>\n",
       "      <th>Zone</th>\n",
       "      <th>State</th>\n",
       "      <th>Country</th>\n",
       "      <th>GPS</th>\n",
       "      <th>Cleanup Type</th>\n",
       "      <th>Cleanup Date</th>\n",
       "      <th>Group Name</th>\n",
       "      <th>Adults</th>\n",
       "      <th>Children</th>\n",
       "      <th>...</th>\n",
       "      <th>Syringes</th>\n",
       "      <th>Tampons/Tampon Applicators</th>\n",
       "      <th>Personal Hygiene (Clean Swell)</th>\n",
       "      <th>Gloves &amp; Masks (PPE)</th>\n",
       "      <th>Foam Pieces</th>\n",
       "      <th>Glass Pieces</th>\n",
       "      <th>Plastic Pieces</th>\n",
       "      <th>Total Items Collected</th>\n",
       "      <th>Month</th>\n",
       "      <th>Year</th>\n",
       "    </tr>\n",
       "  </thead>\n",
       "  <tbody>\n",
       "    <tr>\n",
       "      <th>0</th>\n",
       "      <td>596</td>\n",
       "      <td>Del Norte County, CA, USA</td>\n",
       "      <td>California, USA</td>\n",
       "      <td>United States</td>\n",
       "      <td>41.58459, -124.09743</td>\n",
       "      <td>beach</td>\n",
       "      <td>2015-07-29</td>\n",
       "      <td>NaN</td>\n",
       "      <td>1.0</td>\n",
       "      <td>0.0</td>\n",
       "      <td>...</td>\n",
       "      <td>0</td>\n",
       "      <td>0</td>\n",
       "      <td>0</td>\n",
       "      <td>0</td>\n",
       "      <td>0</td>\n",
       "      <td>0</td>\n",
       "      <td>0</td>\n",
       "      <td>20.0</td>\n",
       "      <td>NaN</td>\n",
       "      <td>NaN</td>\n",
       "    </tr>\n",
       "    <tr>\n",
       "      <th>1</th>\n",
       "      <td>710</td>\n",
       "      <td>Contra Costa County, CA, USA</td>\n",
       "      <td>California, USA</td>\n",
       "      <td>United States</td>\n",
       "      <td>37.98561, -122.07465</td>\n",
       "      <td>beach</td>\n",
       "      <td>2015-08-12</td>\n",
       "      <td>NaN</td>\n",
       "      <td>1.0</td>\n",
       "      <td>0.0</td>\n",
       "      <td>...</td>\n",
       "      <td>0</td>\n",
       "      <td>0</td>\n",
       "      <td>0</td>\n",
       "      <td>0</td>\n",
       "      <td>0</td>\n",
       "      <td>0</td>\n",
       "      <td>0</td>\n",
       "      <td>2.0</td>\n",
       "      <td>NaN</td>\n",
       "      <td>NaN</td>\n",
       "    </tr>\n",
       "    <tr>\n",
       "      <th>2</th>\n",
       "      <td>721</td>\n",
       "      <td>Marin County, CA, USA</td>\n",
       "      <td>California, USA</td>\n",
       "      <td>United States</td>\n",
       "      <td>37.85622, -122.44774</td>\n",
       "      <td>beach</td>\n",
       "      <td>2015-08-20</td>\n",
       "      <td>NaN</td>\n",
       "      <td>1.0</td>\n",
       "      <td>0.0</td>\n",
       "      <td>...</td>\n",
       "      <td>0</td>\n",
       "      <td>0</td>\n",
       "      <td>0</td>\n",
       "      <td>0</td>\n",
       "      <td>0</td>\n",
       "      <td>0</td>\n",
       "      <td>47</td>\n",
       "      <td>163.0</td>\n",
       "      <td>NaN</td>\n",
       "      <td>NaN</td>\n",
       "    </tr>\n",
       "    <tr>\n",
       "      <th>3</th>\n",
       "      <td>758</td>\n",
       "      <td>Contra Costa County, CA, USA</td>\n",
       "      <td>California, USA</td>\n",
       "      <td>United States</td>\n",
       "      <td>37.92068, -122.3864</td>\n",
       "      <td>beach</td>\n",
       "      <td>2015-08-20</td>\n",
       "      <td>NaN</td>\n",
       "      <td>1.0</td>\n",
       "      <td>0.0</td>\n",
       "      <td>...</td>\n",
       "      <td>0</td>\n",
       "      <td>0</td>\n",
       "      <td>1</td>\n",
       "      <td>0</td>\n",
       "      <td>0</td>\n",
       "      <td>0</td>\n",
       "      <td>48</td>\n",
       "      <td>178.0</td>\n",
       "      <td>NaN</td>\n",
       "      <td>NaN</td>\n",
       "    </tr>\n",
       "    <tr>\n",
       "      <th>4</th>\n",
       "      <td>762</td>\n",
       "      <td>Alameda County, CA, USA</td>\n",
       "      <td>California, USA</td>\n",
       "      <td>United States</td>\n",
       "      <td>37.86021, -122.29011</td>\n",
       "      <td>beach</td>\n",
       "      <td>2015-08-24</td>\n",
       "      <td>NaN</td>\n",
       "      <td>1.0</td>\n",
       "      <td>0.0</td>\n",
       "      <td>...</td>\n",
       "      <td>0</td>\n",
       "      <td>0</td>\n",
       "      <td>0</td>\n",
       "      <td>0</td>\n",
       "      <td>0</td>\n",
       "      <td>0</td>\n",
       "      <td>0</td>\n",
       "      <td>10.0</td>\n",
       "      <td>NaN</td>\n",
       "      <td>NaN</td>\n",
       "    </tr>\n",
       "    <tr>\n",
       "      <th>...</th>\n",
       "      <td>...</td>\n",
       "      <td>...</td>\n",
       "      <td>...</td>\n",
       "      <td>...</td>\n",
       "      <td>...</td>\n",
       "      <td>...</td>\n",
       "      <td>...</td>\n",
       "      <td>...</td>\n",
       "      <td>...</td>\n",
       "      <td>...</td>\n",
       "      <td>...</td>\n",
       "      <td>...</td>\n",
       "      <td>...</td>\n",
       "      <td>...</td>\n",
       "      <td>...</td>\n",
       "      <td>...</td>\n",
       "      <td>...</td>\n",
       "      <td>...</td>\n",
       "      <td>...</td>\n",
       "      <td>...</td>\n",
       "      <td>...</td>\n",
       "    </tr>\n",
       "    <tr>\n",
       "      <th>3408</th>\n",
       "      <td>177692</td>\n",
       "      <td>Monterey County, CA, USA</td>\n",
       "      <td>California, USA</td>\n",
       "      <td>United States</td>\n",
       "      <td>36.60046, -121.88872</td>\n",
       "      <td>Land (beach, shoreline and inland)</td>\n",
       "      <td>2021-07-31 00:00:00</td>\n",
       "      <td>Pacific Beach Coalition- CCF</td>\n",
       "      <td>12.0</td>\n",
       "      <td>0.0</td>\n",
       "      <td>...</td>\n",
       "      <td>0</td>\n",
       "      <td>0</td>\n",
       "      <td>0</td>\n",
       "      <td>0</td>\n",
       "      <td>0</td>\n",
       "      <td>0</td>\n",
       "      <td>0</td>\n",
       "      <td>1.0</td>\n",
       "      <td>7.0</td>\n",
       "      <td>2021.0</td>\n",
       "    </tr>\n",
       "    <tr>\n",
       "      <th>3409</th>\n",
       "      <td>177700</td>\n",
       "      <td>Monterey County, CA, USA</td>\n",
       "      <td>California, USA</td>\n",
       "      <td>United States</td>\n",
       "      <td>36.60049, -121.88882</td>\n",
       "      <td>Land (beach, shoreline and inland)</td>\n",
       "      <td>2021-07-31 00:00:00</td>\n",
       "      <td>Pacific Beach Coalition-CCF</td>\n",
       "      <td>11.0</td>\n",
       "      <td>0.0</td>\n",
       "      <td>...</td>\n",
       "      <td>0</td>\n",
       "      <td>0</td>\n",
       "      <td>0</td>\n",
       "      <td>1</td>\n",
       "      <td>0</td>\n",
       "      <td>0</td>\n",
       "      <td>32</td>\n",
       "      <td>119.0</td>\n",
       "      <td>7.0</td>\n",
       "      <td>2021.0</td>\n",
       "    </tr>\n",
       "    <tr>\n",
       "      <th>3410</th>\n",
       "      <td>177718</td>\n",
       "      <td>San Mateo County, CA, USA</td>\n",
       "      <td>California, USA</td>\n",
       "      <td>United States</td>\n",
       "      <td>37.4985, -122.46657</td>\n",
       "      <td>Land (beach, shoreline and inland)</td>\n",
       "      <td>2021-07-31 00:00:00</td>\n",
       "      <td>NaN</td>\n",
       "      <td>1.0</td>\n",
       "      <td>0.0</td>\n",
       "      <td>...</td>\n",
       "      <td>0</td>\n",
       "      <td>0</td>\n",
       "      <td>0</td>\n",
       "      <td>0</td>\n",
       "      <td>0</td>\n",
       "      <td>0</td>\n",
       "      <td>4</td>\n",
       "      <td>27.0</td>\n",
       "      <td>7.0</td>\n",
       "      <td>2021.0</td>\n",
       "    </tr>\n",
       "    <tr>\n",
       "      <th>3411</th>\n",
       "      <td>177747</td>\n",
       "      <td>San Mateo County, CA, USA</td>\n",
       "      <td>California, USA</td>\n",
       "      <td>United States</td>\n",
       "      <td>37.57875, -122.50652</td>\n",
       "      <td>Land (beach, shoreline and inland)</td>\n",
       "      <td>2021-07-31 00:00:00</td>\n",
       "      <td>Pacifica Beach Coalition</td>\n",
       "      <td>1.0</td>\n",
       "      <td>0.0</td>\n",
       "      <td>...</td>\n",
       "      <td>0</td>\n",
       "      <td>0</td>\n",
       "      <td>0</td>\n",
       "      <td>1</td>\n",
       "      <td>0</td>\n",
       "      <td>0</td>\n",
       "      <td>1</td>\n",
       "      <td>7.0</td>\n",
       "      <td>7.0</td>\n",
       "      <td>2021.0</td>\n",
       "    </tr>\n",
       "    <tr>\n",
       "      <th>3412</th>\n",
       "      <td>177719</td>\n",
       "      <td>San Mateo County, CA, USA</td>\n",
       "      <td>California, USA</td>\n",
       "      <td>United States</td>\n",
       "      <td>37.5888953, -122.3609298</td>\n",
       "      <td>Land (beach, shoreline and inland)</td>\n",
       "      <td>2021-07-31 00:00:00</td>\n",
       "      <td>NaN</td>\n",
       "      <td>1.0</td>\n",
       "      <td>0.0</td>\n",
       "      <td>...</td>\n",
       "      <td>0</td>\n",
       "      <td>0</td>\n",
       "      <td>0</td>\n",
       "      <td>0</td>\n",
       "      <td>0</td>\n",
       "      <td>0</td>\n",
       "      <td>0</td>\n",
       "      <td>0.0</td>\n",
       "      <td>7.0</td>\n",
       "      <td>2021.0</td>\n",
       "    </tr>\n",
       "  </tbody>\n",
       "</table>\n",
       "<p>30757 rows × 67 columns</p>\n",
       "</div>"
      ],
      "text/plain": [
       "     Cleanup ID                          Zone            State        Country  \\\n",
       "0           596     Del Norte County, CA, USA  California, USA  United States   \n",
       "1           710  Contra Costa County, CA, USA  California, USA  United States   \n",
       "2           721         Marin County, CA, USA  California, USA  United States   \n",
       "3           758  Contra Costa County, CA, USA  California, USA  United States   \n",
       "4           762       Alameda County, CA, USA  California, USA  United States   \n",
       "...         ...                           ...              ...            ...   \n",
       "3408     177692      Monterey County, CA, USA  California, USA  United States   \n",
       "3409     177700      Monterey County, CA, USA  California, USA  United States   \n",
       "3410     177718     San Mateo County, CA, USA  California, USA  United States   \n",
       "3411     177747     San Mateo County, CA, USA  California, USA  United States   \n",
       "3412     177719     San Mateo County, CA, USA  California, USA  United States   \n",
       "\n",
       "                           GPS                        Cleanup Type  \\\n",
       "0         41.58459, -124.09743                               beach   \n",
       "1         37.98561, -122.07465                               beach   \n",
       "2         37.85622, -122.44774                               beach   \n",
       "3          37.92068, -122.3864                               beach   \n",
       "4         37.86021, -122.29011                               beach   \n",
       "...                        ...                                 ...   \n",
       "3408      36.60046, -121.88872  Land (beach, shoreline and inland)   \n",
       "3409      36.60049, -121.88882  Land (beach, shoreline and inland)   \n",
       "3410       37.4985, -122.46657  Land (beach, shoreline and inland)   \n",
       "3411      37.57875, -122.50652  Land (beach, shoreline and inland)   \n",
       "3412  37.5888953, -122.3609298  Land (beach, shoreline and inland)   \n",
       "\n",
       "             Cleanup Date                    Group Name  Adults  Children  \\\n",
       "0              2015-07-29                           NaN     1.0       0.0   \n",
       "1              2015-08-12                           NaN     1.0       0.0   \n",
       "2              2015-08-20                           NaN     1.0       0.0   \n",
       "3              2015-08-20                           NaN     1.0       0.0   \n",
       "4              2015-08-24                           NaN     1.0       0.0   \n",
       "...                   ...                           ...     ...       ...   \n",
       "3408  2021-07-31 00:00:00  Pacific Beach Coalition- CCF    12.0       0.0   \n",
       "3409  2021-07-31 00:00:00   Pacific Beach Coalition-CCF    11.0       0.0   \n",
       "3410  2021-07-31 00:00:00                           NaN     1.0       0.0   \n",
       "3411  2021-07-31 00:00:00      Pacifica Beach Coalition     1.0       0.0   \n",
       "3412  2021-07-31 00:00:00                           NaN     1.0       0.0   \n",
       "\n",
       "      ...  Syringes  Tampons/Tampon Applicators  \\\n",
       "0     ...         0                           0   \n",
       "1     ...         0                           0   \n",
       "2     ...         0                           0   \n",
       "3     ...         0                           0   \n",
       "4     ...         0                           0   \n",
       "...   ...       ...                         ...   \n",
       "3408  ...         0                           0   \n",
       "3409  ...         0                           0   \n",
       "3410  ...         0                           0   \n",
       "3411  ...         0                           0   \n",
       "3412  ...         0                           0   \n",
       "\n",
       "      Personal Hygiene (Clean Swell)  Gloves & Masks (PPE)  Foam Pieces  \\\n",
       "0                                  0                     0            0   \n",
       "1                                  0                     0            0   \n",
       "2                                  0                     0            0   \n",
       "3                                  1                     0            0   \n",
       "4                                  0                     0            0   \n",
       "...                              ...                   ...          ...   \n",
       "3408                               0                     0            0   \n",
       "3409                               0                     1            0   \n",
       "3410                               0                     0            0   \n",
       "3411                               0                     1            0   \n",
       "3412                               0                     0            0   \n",
       "\n",
       "      Glass Pieces  Plastic Pieces  Total Items Collected  Month    Year  \n",
       "0                0               0                   20.0    NaN     NaN  \n",
       "1                0               0                    2.0    NaN     NaN  \n",
       "2                0              47                  163.0    NaN     NaN  \n",
       "3                0              48                  178.0    NaN     NaN  \n",
       "4                0               0                   10.0    NaN     NaN  \n",
       "...            ...             ...                    ...    ...     ...  \n",
       "3408             0               0                    1.0    7.0  2021.0  \n",
       "3409             0              32                  119.0    7.0  2021.0  \n",
       "3410             0               4                   27.0    7.0  2021.0  \n",
       "3411             0               1                    7.0    7.0  2021.0  \n",
       "3412             0               0                    0.0    7.0  2021.0  \n",
       "\n",
       "[30757 rows x 67 columns]"
      ]
     },
     "execution_count": 20,
     "metadata": {},
     "output_type": "execute_result"
    }
   ],
   "source": [
    "Tides_and_Blue_Bucket"
   ]
  },
  {
   "cell_type": "code",
   "execution_count": 15,
   "metadata": {},
   "outputs": [],
   "source": [
    "#Tides_and_Blue_Bucket.to_csv(\"Tides_and_Blue_Bucket_Data.csv\")"
   ]
  },
  {
   "cell_type": "code",
   "execution_count": 17,
   "metadata": {},
   "outputs": [
    {
     "data": {
      "text/plain": [
       "0       0.0\n",
       "1       0.0\n",
       "2       0.0\n",
       "3       0.0\n",
       "4       0.0\n",
       "       ... \n",
       "3408    0.0\n",
       "3409    0.0\n",
       "3410    0.0\n",
       "3411    0.0\n",
       "3412    2.0\n",
       "Name: # of bags, Length: 30757, dtype: float64"
      ]
     },
     "execution_count": 17,
     "metadata": {},
     "output_type": "execute_result"
    }
   ],
   "source": [
    "Tides_and_Blue_Bucket['# of bags']"
   ]
  },
  {
   "cell_type": "code",
   "execution_count": 21,
   "metadata": {},
   "outputs": [
    {
     "data": {
      "text/plain": [
       "0       2.10\n",
       "1       0.01\n",
       "2       2.99\n",
       "3       6.54\n",
       "4       0.31\n",
       "        ... \n",
       "3408    0.01\n",
       "3409    6.13\n",
       "3410    2.48\n",
       "3411    2.00\n",
       "3412    4.00\n",
       "Name: Pounds, Length: 30757, dtype: float64"
      ]
     },
     "execution_count": 21,
     "metadata": {},
     "output_type": "execute_result"
    }
   ],
   "source": [
    "Tides_and_Blue_Bucket['Pounds']"
   ]
  },
  {
   "cell_type": "code",
   "execution_count": 47,
   "metadata": {},
   "outputs": [],
   "source": [
    "#Group the merged Tides and Blue Bucket dataset by Zone and summed the Pounds column for each group \n",
    "#(I couldn't find a column for site location cleanup so this was the closest thing to location)\n",
    "#Then get the top 10 zones with the largest weights of trash\n",
    "\n",
    "Tides_and_Blue_Bucket_grouped = Tides_and_Blue_Bucket.groupby('Zone')['Pounds'].sum().nlargest(10)"
   ]
  },
  {
   "cell_type": "code",
   "execution_count": 48,
   "metadata": {},
   "outputs": [
    {
     "data": {
      "text/plain": [
       "Zone\n",
       "San Diego County, CA, USA      609382.404\n",
       "San Mateo County, CA, USA      464798.822\n",
       "Alameda County, CA, USA        362920.320\n",
       "Santa Clara County, CA, USA    274522.800\n",
       "Orange County, CA, USA         258021.436\n",
       "Los Angeles County, CA, USA    197198.883\n",
       "San Joaquin County, CA, USA    155206.490\n",
       "Riverside County, CA, USA      134541.790\n",
       "Solano County, CA, USA         125683.514\n",
       "Yuba County, CA, USA           108344.000\n",
       "Name: Pounds, dtype: float64"
      ]
     },
     "execution_count": 48,
     "metadata": {},
     "output_type": "execute_result"
    }
   ],
   "source": [
    "#Contents of new series after grouping\n",
    "Tides_and_Blue_Bucket_grouped"
   ]
  },
  {
   "cell_type": "code",
   "execution_count": 49,
   "metadata": {},
   "outputs": [],
   "source": [
    "#Convert the series into a dataframe so pounds can be sorted in descending order\n",
    "Tides_and_Blue_Bucket_grouped_df = pd.DataFrame()\n",
    "Tides_and_Blue_Bucket_grouped_df['Zone'] = Tides_and_Blue_Bucket_grouped.index\n",
    "Tides_and_Blue_Bucket_grouped_df['Total Pounds'] = Tides_and_Blue_Bucket_grouped.values"
   ]
  },
  {
   "cell_type": "code",
   "execution_count": 50,
   "metadata": {},
   "outputs": [
    {
     "data": {
      "text/html": [
       "<div>\n",
       "<style scoped>\n",
       "    .dataframe tbody tr th:only-of-type {\n",
       "        vertical-align: middle;\n",
       "    }\n",
       "\n",
       "    .dataframe tbody tr th {\n",
       "        vertical-align: top;\n",
       "    }\n",
       "\n",
       "    .dataframe thead th {\n",
       "        text-align: right;\n",
       "    }\n",
       "</style>\n",
       "<table border=\"1\" class=\"dataframe\">\n",
       "  <thead>\n",
       "    <tr style=\"text-align: right;\">\n",
       "      <th></th>\n",
       "      <th>Zone</th>\n",
       "      <th>Total Pounds</th>\n",
       "    </tr>\n",
       "  </thead>\n",
       "  <tbody>\n",
       "    <tr>\n",
       "      <th>0</th>\n",
       "      <td>San Diego County, CA, USA</td>\n",
       "      <td>609382.404</td>\n",
       "    </tr>\n",
       "    <tr>\n",
       "      <th>1</th>\n",
       "      <td>San Mateo County, CA, USA</td>\n",
       "      <td>464798.822</td>\n",
       "    </tr>\n",
       "    <tr>\n",
       "      <th>2</th>\n",
       "      <td>Alameda County, CA, USA</td>\n",
       "      <td>362920.320</td>\n",
       "    </tr>\n",
       "    <tr>\n",
       "      <th>3</th>\n",
       "      <td>Santa Clara County, CA, USA</td>\n",
       "      <td>274522.800</td>\n",
       "    </tr>\n",
       "    <tr>\n",
       "      <th>4</th>\n",
       "      <td>Orange County, CA, USA</td>\n",
       "      <td>258021.436</td>\n",
       "    </tr>\n",
       "    <tr>\n",
       "      <th>5</th>\n",
       "      <td>Los Angeles County, CA, USA</td>\n",
       "      <td>197198.883</td>\n",
       "    </tr>\n",
       "    <tr>\n",
       "      <th>6</th>\n",
       "      <td>San Joaquin County, CA, USA</td>\n",
       "      <td>155206.490</td>\n",
       "    </tr>\n",
       "    <tr>\n",
       "      <th>7</th>\n",
       "      <td>Riverside County, CA, USA</td>\n",
       "      <td>134541.790</td>\n",
       "    </tr>\n",
       "    <tr>\n",
       "      <th>8</th>\n",
       "      <td>Solano County, CA, USA</td>\n",
       "      <td>125683.514</td>\n",
       "    </tr>\n",
       "    <tr>\n",
       "      <th>9</th>\n",
       "      <td>Yuba County, CA, USA</td>\n",
       "      <td>108344.000</td>\n",
       "    </tr>\n",
       "  </tbody>\n",
       "</table>\n",
       "</div>"
      ],
      "text/plain": [
       "                          Zone  Total Pounds\n",
       "0    San Diego County, CA, USA    609382.404\n",
       "1    San Mateo County, CA, USA    464798.822\n",
       "2      Alameda County, CA, USA    362920.320\n",
       "3  Santa Clara County, CA, USA    274522.800\n",
       "4       Orange County, CA, USA    258021.436\n",
       "5  Los Angeles County, CA, USA    197198.883\n",
       "6  San Joaquin County, CA, USA    155206.490\n",
       "7    Riverside County, CA, USA    134541.790\n",
       "8       Solano County, CA, USA    125683.514\n",
       "9         Yuba County, CA, USA    108344.000"
      ]
     },
     "execution_count": 50,
     "metadata": {},
     "output_type": "execute_result"
    }
   ],
   "source": [
    "#Contents of new dataframe\n",
    "Tides_and_Blue_Bucket_grouped_df"
   ]
  },
  {
   "cell_type": "code",
   "execution_count": 51,
   "metadata": {},
   "outputs": [
    {
     "data": {
      "text/html": [
       "<div>\n",
       "<style scoped>\n",
       "    .dataframe tbody tr th:only-of-type {\n",
       "        vertical-align: middle;\n",
       "    }\n",
       "\n",
       "    .dataframe tbody tr th {\n",
       "        vertical-align: top;\n",
       "    }\n",
       "\n",
       "    .dataframe thead th {\n",
       "        text-align: right;\n",
       "    }\n",
       "</style>\n",
       "<table border=\"1\" class=\"dataframe\">\n",
       "  <thead>\n",
       "    <tr style=\"text-align: right;\">\n",
       "      <th></th>\n",
       "      <th>Zone</th>\n",
       "      <th>Total Pounds</th>\n",
       "    </tr>\n",
       "  </thead>\n",
       "  <tbody>\n",
       "    <tr>\n",
       "      <th>0</th>\n",
       "      <td>San Diego County, CA, USA</td>\n",
       "      <td>609382.404</td>\n",
       "    </tr>\n",
       "    <tr>\n",
       "      <th>1</th>\n",
       "      <td>San Mateo County, CA, USA</td>\n",
       "      <td>464798.822</td>\n",
       "    </tr>\n",
       "    <tr>\n",
       "      <th>2</th>\n",
       "      <td>Alameda County, CA, USA</td>\n",
       "      <td>362920.320</td>\n",
       "    </tr>\n",
       "    <tr>\n",
       "      <th>3</th>\n",
       "      <td>Santa Clara County, CA, USA</td>\n",
       "      <td>274522.800</td>\n",
       "    </tr>\n",
       "    <tr>\n",
       "      <th>4</th>\n",
       "      <td>Orange County, CA, USA</td>\n",
       "      <td>258021.436</td>\n",
       "    </tr>\n",
       "    <tr>\n",
       "      <th>5</th>\n",
       "      <td>Los Angeles County, CA, USA</td>\n",
       "      <td>197198.883</td>\n",
       "    </tr>\n",
       "    <tr>\n",
       "      <th>6</th>\n",
       "      <td>San Joaquin County, CA, USA</td>\n",
       "      <td>155206.490</td>\n",
       "    </tr>\n",
       "    <tr>\n",
       "      <th>7</th>\n",
       "      <td>Riverside County, CA, USA</td>\n",
       "      <td>134541.790</td>\n",
       "    </tr>\n",
       "    <tr>\n",
       "      <th>8</th>\n",
       "      <td>Solano County, CA, USA</td>\n",
       "      <td>125683.514</td>\n",
       "    </tr>\n",
       "    <tr>\n",
       "      <th>9</th>\n",
       "      <td>Yuba County, CA, USA</td>\n",
       "      <td>108344.000</td>\n",
       "    </tr>\n",
       "  </tbody>\n",
       "</table>\n",
       "</div>"
      ],
      "text/plain": [
       "                          Zone  Total Pounds\n",
       "0    San Diego County, CA, USA    609382.404\n",
       "1    San Mateo County, CA, USA    464798.822\n",
       "2      Alameda County, CA, USA    362920.320\n",
       "3  Santa Clara County, CA, USA    274522.800\n",
       "4       Orange County, CA, USA    258021.436\n",
       "5  Los Angeles County, CA, USA    197198.883\n",
       "6  San Joaquin County, CA, USA    155206.490\n",
       "7    Riverside County, CA, USA    134541.790\n",
       "8       Solano County, CA, USA    125683.514\n",
       "9         Yuba County, CA, USA    108344.000"
      ]
     },
     "execution_count": 51,
     "metadata": {},
     "output_type": "execute_result"
    }
   ],
   "source": [
    "#Sort the entries of dataframe by total pounds in descending order\n",
    "Tides_and_Blue_Bucket_sorted = Tides_and_Blue_Bucket_grouped_df.sort_values(by = 'Total Pounds', ascending = False)\n",
    "Tides_and_Blue_Bucket_sorted"
   ]
  },
  {
   "cell_type": "code",
   "execution_count": 52,
   "metadata": {},
   "outputs": [
    {
     "data": {
      "application/vnd.plotly.v1+json": {
       "config": {
        "plotlyServerURL": "https://plot.ly"
       },
       "data": [
        {
         "cells": {
          "align": "left",
          "fill": {
           "color": "lightcyan"
          },
          "line": {
           "color": "darkslategray"
          },
          "values": [
           [
            "San Diego County, CA, USA",
            "San Mateo County, CA, USA",
            "Alameda County, CA, USA",
            "Santa Clara County, CA, USA",
            "Orange County, CA, USA",
            "Los Angeles County, CA, USA",
            "San Joaquin County, CA, USA",
            "Riverside County, CA, USA",
            "Solano County, CA, USA",
            "Yuba County, CA, USA"
           ],
           [
            609382.4039999988,
            464798.82200000435,
            362920.3200000008,
            274522.80000000034,
            258021.43600000112,
            197198.88300000117,
            155206.49000000005,
            134541.79000000012,
            125683.51400000001,
            108344
           ]
          ]
         },
         "header": {
          "align": "left",
          "fill": {
           "color": "lightskyblue"
          },
          "line": {
           "color": "darkslategray"
          },
          "values": [
           "Zone",
           "Total Pounds"
          ]
         },
         "type": "table"
        }
       ],
       "layout": {
        "height": 300,
        "template": {
         "data": {
          "bar": [
           {
            "error_x": {
             "color": "#2a3f5f"
            },
            "error_y": {
             "color": "#2a3f5f"
            },
            "marker": {
             "line": {
              "color": "#E5ECF6",
              "width": 0.5
             },
             "pattern": {
              "fillmode": "overlay",
              "size": 10,
              "solidity": 0.2
             }
            },
            "type": "bar"
           }
          ],
          "barpolar": [
           {
            "marker": {
             "line": {
              "color": "#E5ECF6",
              "width": 0.5
             },
             "pattern": {
              "fillmode": "overlay",
              "size": 10,
              "solidity": 0.2
             }
            },
            "type": "barpolar"
           }
          ],
          "carpet": [
           {
            "aaxis": {
             "endlinecolor": "#2a3f5f",
             "gridcolor": "white",
             "linecolor": "white",
             "minorgridcolor": "white",
             "startlinecolor": "#2a3f5f"
            },
            "baxis": {
             "endlinecolor": "#2a3f5f",
             "gridcolor": "white",
             "linecolor": "white",
             "minorgridcolor": "white",
             "startlinecolor": "#2a3f5f"
            },
            "type": "carpet"
           }
          ],
          "choropleth": [
           {
            "colorbar": {
             "outlinewidth": 0,
             "ticks": ""
            },
            "type": "choropleth"
           }
          ],
          "contour": [
           {
            "colorbar": {
             "outlinewidth": 0,
             "ticks": ""
            },
            "colorscale": [
             [
              0,
              "#0d0887"
             ],
             [
              0.1111111111111111,
              "#46039f"
             ],
             [
              0.2222222222222222,
              "#7201a8"
             ],
             [
              0.3333333333333333,
              "#9c179e"
             ],
             [
              0.4444444444444444,
              "#bd3786"
             ],
             [
              0.5555555555555556,
              "#d8576b"
             ],
             [
              0.6666666666666666,
              "#ed7953"
             ],
             [
              0.7777777777777778,
              "#fb9f3a"
             ],
             [
              0.8888888888888888,
              "#fdca26"
             ],
             [
              1,
              "#f0f921"
             ]
            ],
            "type": "contour"
           }
          ],
          "contourcarpet": [
           {
            "colorbar": {
             "outlinewidth": 0,
             "ticks": ""
            },
            "type": "contourcarpet"
           }
          ],
          "heatmap": [
           {
            "colorbar": {
             "outlinewidth": 0,
             "ticks": ""
            },
            "colorscale": [
             [
              0,
              "#0d0887"
             ],
             [
              0.1111111111111111,
              "#46039f"
             ],
             [
              0.2222222222222222,
              "#7201a8"
             ],
             [
              0.3333333333333333,
              "#9c179e"
             ],
             [
              0.4444444444444444,
              "#bd3786"
             ],
             [
              0.5555555555555556,
              "#d8576b"
             ],
             [
              0.6666666666666666,
              "#ed7953"
             ],
             [
              0.7777777777777778,
              "#fb9f3a"
             ],
             [
              0.8888888888888888,
              "#fdca26"
             ],
             [
              1,
              "#f0f921"
             ]
            ],
            "type": "heatmap"
           }
          ],
          "heatmapgl": [
           {
            "colorbar": {
             "outlinewidth": 0,
             "ticks": ""
            },
            "colorscale": [
             [
              0,
              "#0d0887"
             ],
             [
              0.1111111111111111,
              "#46039f"
             ],
             [
              0.2222222222222222,
              "#7201a8"
             ],
             [
              0.3333333333333333,
              "#9c179e"
             ],
             [
              0.4444444444444444,
              "#bd3786"
             ],
             [
              0.5555555555555556,
              "#d8576b"
             ],
             [
              0.6666666666666666,
              "#ed7953"
             ],
             [
              0.7777777777777778,
              "#fb9f3a"
             ],
             [
              0.8888888888888888,
              "#fdca26"
             ],
             [
              1,
              "#f0f921"
             ]
            ],
            "type": "heatmapgl"
           }
          ],
          "histogram": [
           {
            "marker": {
             "pattern": {
              "fillmode": "overlay",
              "size": 10,
              "solidity": 0.2
             }
            },
            "type": "histogram"
           }
          ],
          "histogram2d": [
           {
            "colorbar": {
             "outlinewidth": 0,
             "ticks": ""
            },
            "colorscale": [
             [
              0,
              "#0d0887"
             ],
             [
              0.1111111111111111,
              "#46039f"
             ],
             [
              0.2222222222222222,
              "#7201a8"
             ],
             [
              0.3333333333333333,
              "#9c179e"
             ],
             [
              0.4444444444444444,
              "#bd3786"
             ],
             [
              0.5555555555555556,
              "#d8576b"
             ],
             [
              0.6666666666666666,
              "#ed7953"
             ],
             [
              0.7777777777777778,
              "#fb9f3a"
             ],
             [
              0.8888888888888888,
              "#fdca26"
             ],
             [
              1,
              "#f0f921"
             ]
            ],
            "type": "histogram2d"
           }
          ],
          "histogram2dcontour": [
           {
            "colorbar": {
             "outlinewidth": 0,
             "ticks": ""
            },
            "colorscale": [
             [
              0,
              "#0d0887"
             ],
             [
              0.1111111111111111,
              "#46039f"
             ],
             [
              0.2222222222222222,
              "#7201a8"
             ],
             [
              0.3333333333333333,
              "#9c179e"
             ],
             [
              0.4444444444444444,
              "#bd3786"
             ],
             [
              0.5555555555555556,
              "#d8576b"
             ],
             [
              0.6666666666666666,
              "#ed7953"
             ],
             [
              0.7777777777777778,
              "#fb9f3a"
             ],
             [
              0.8888888888888888,
              "#fdca26"
             ],
             [
              1,
              "#f0f921"
             ]
            ],
            "type": "histogram2dcontour"
           }
          ],
          "mesh3d": [
           {
            "colorbar": {
             "outlinewidth": 0,
             "ticks": ""
            },
            "type": "mesh3d"
           }
          ],
          "parcoords": [
           {
            "line": {
             "colorbar": {
              "outlinewidth": 0,
              "ticks": ""
             }
            },
            "type": "parcoords"
           }
          ],
          "pie": [
           {
            "automargin": true,
            "type": "pie"
           }
          ],
          "scatter": [
           {
            "marker": {
             "colorbar": {
              "outlinewidth": 0,
              "ticks": ""
             }
            },
            "type": "scatter"
           }
          ],
          "scatter3d": [
           {
            "line": {
             "colorbar": {
              "outlinewidth": 0,
              "ticks": ""
             }
            },
            "marker": {
             "colorbar": {
              "outlinewidth": 0,
              "ticks": ""
             }
            },
            "type": "scatter3d"
           }
          ],
          "scattercarpet": [
           {
            "marker": {
             "colorbar": {
              "outlinewidth": 0,
              "ticks": ""
             }
            },
            "type": "scattercarpet"
           }
          ],
          "scattergeo": [
           {
            "marker": {
             "colorbar": {
              "outlinewidth": 0,
              "ticks": ""
             }
            },
            "type": "scattergeo"
           }
          ],
          "scattergl": [
           {
            "marker": {
             "colorbar": {
              "outlinewidth": 0,
              "ticks": ""
             }
            },
            "type": "scattergl"
           }
          ],
          "scattermapbox": [
           {
            "marker": {
             "colorbar": {
              "outlinewidth": 0,
              "ticks": ""
             }
            },
            "type": "scattermapbox"
           }
          ],
          "scatterpolar": [
           {
            "marker": {
             "colorbar": {
              "outlinewidth": 0,
              "ticks": ""
             }
            },
            "type": "scatterpolar"
           }
          ],
          "scatterpolargl": [
           {
            "marker": {
             "colorbar": {
              "outlinewidth": 0,
              "ticks": ""
             }
            },
            "type": "scatterpolargl"
           }
          ],
          "scatterternary": [
           {
            "marker": {
             "colorbar": {
              "outlinewidth": 0,
              "ticks": ""
             }
            },
            "type": "scatterternary"
           }
          ],
          "surface": [
           {
            "colorbar": {
             "outlinewidth": 0,
             "ticks": ""
            },
            "colorscale": [
             [
              0,
              "#0d0887"
             ],
             [
              0.1111111111111111,
              "#46039f"
             ],
             [
              0.2222222222222222,
              "#7201a8"
             ],
             [
              0.3333333333333333,
              "#9c179e"
             ],
             [
              0.4444444444444444,
              "#bd3786"
             ],
             [
              0.5555555555555556,
              "#d8576b"
             ],
             [
              0.6666666666666666,
              "#ed7953"
             ],
             [
              0.7777777777777778,
              "#fb9f3a"
             ],
             [
              0.8888888888888888,
              "#fdca26"
             ],
             [
              1,
              "#f0f921"
             ]
            ],
            "type": "surface"
           }
          ],
          "table": [
           {
            "cells": {
             "fill": {
              "color": "#EBF0F8"
             },
             "line": {
              "color": "white"
             }
            },
            "header": {
             "fill": {
              "color": "#C8D4E3"
             },
             "line": {
              "color": "white"
             }
            },
            "type": "table"
           }
          ]
         },
         "layout": {
          "annotationdefaults": {
           "arrowcolor": "#2a3f5f",
           "arrowhead": 0,
           "arrowwidth": 1
          },
          "autotypenumbers": "strict",
          "coloraxis": {
           "colorbar": {
            "outlinewidth": 0,
            "ticks": ""
           }
          },
          "colorscale": {
           "diverging": [
            [
             0,
             "#8e0152"
            ],
            [
             0.1,
             "#c51b7d"
            ],
            [
             0.2,
             "#de77ae"
            ],
            [
             0.3,
             "#f1b6da"
            ],
            [
             0.4,
             "#fde0ef"
            ],
            [
             0.5,
             "#f7f7f7"
            ],
            [
             0.6,
             "#e6f5d0"
            ],
            [
             0.7,
             "#b8e186"
            ],
            [
             0.8,
             "#7fbc41"
            ],
            [
             0.9,
             "#4d9221"
            ],
            [
             1,
             "#276419"
            ]
           ],
           "sequential": [
            [
             0,
             "#0d0887"
            ],
            [
             0.1111111111111111,
             "#46039f"
            ],
            [
             0.2222222222222222,
             "#7201a8"
            ],
            [
             0.3333333333333333,
             "#9c179e"
            ],
            [
             0.4444444444444444,
             "#bd3786"
            ],
            [
             0.5555555555555556,
             "#d8576b"
            ],
            [
             0.6666666666666666,
             "#ed7953"
            ],
            [
             0.7777777777777778,
             "#fb9f3a"
            ],
            [
             0.8888888888888888,
             "#fdca26"
            ],
            [
             1,
             "#f0f921"
            ]
           ],
           "sequentialminus": [
            [
             0,
             "#0d0887"
            ],
            [
             0.1111111111111111,
             "#46039f"
            ],
            [
             0.2222222222222222,
             "#7201a8"
            ],
            [
             0.3333333333333333,
             "#9c179e"
            ],
            [
             0.4444444444444444,
             "#bd3786"
            ],
            [
             0.5555555555555556,
             "#d8576b"
            ],
            [
             0.6666666666666666,
             "#ed7953"
            ],
            [
             0.7777777777777778,
             "#fb9f3a"
            ],
            [
             0.8888888888888888,
             "#fdca26"
            ],
            [
             1,
             "#f0f921"
            ]
           ]
          },
          "colorway": [
           "#636efa",
           "#EF553B",
           "#00cc96",
           "#ab63fa",
           "#FFA15A",
           "#19d3f3",
           "#FF6692",
           "#B6E880",
           "#FF97FF",
           "#FECB52"
          ],
          "font": {
           "color": "#2a3f5f"
          },
          "geo": {
           "bgcolor": "white",
           "lakecolor": "white",
           "landcolor": "#E5ECF6",
           "showlakes": true,
           "showland": true,
           "subunitcolor": "white"
          },
          "hoverlabel": {
           "align": "left"
          },
          "hovermode": "closest",
          "mapbox": {
           "style": "light"
          },
          "paper_bgcolor": "white",
          "plot_bgcolor": "#E5ECF6",
          "polar": {
           "angularaxis": {
            "gridcolor": "white",
            "linecolor": "white",
            "ticks": ""
           },
           "bgcolor": "#E5ECF6",
           "radialaxis": {
            "gridcolor": "white",
            "linecolor": "white",
            "ticks": ""
           }
          },
          "scene": {
           "xaxis": {
            "backgroundcolor": "#E5ECF6",
            "gridcolor": "white",
            "gridwidth": 2,
            "linecolor": "white",
            "showbackground": true,
            "ticks": "",
            "zerolinecolor": "white"
           },
           "yaxis": {
            "backgroundcolor": "#E5ECF6",
            "gridcolor": "white",
            "gridwidth": 2,
            "linecolor": "white",
            "showbackground": true,
            "ticks": "",
            "zerolinecolor": "white"
           },
           "zaxis": {
            "backgroundcolor": "#E5ECF6",
            "gridcolor": "white",
            "gridwidth": 2,
            "linecolor": "white",
            "showbackground": true,
            "ticks": "",
            "zerolinecolor": "white"
           }
          },
          "shapedefaults": {
           "line": {
            "color": "#2a3f5f"
           }
          },
          "ternary": {
           "aaxis": {
            "gridcolor": "white",
            "linecolor": "white",
            "ticks": ""
           },
           "baxis": {
            "gridcolor": "white",
            "linecolor": "white",
            "ticks": ""
           },
           "bgcolor": "#E5ECF6",
           "caxis": {
            "gridcolor": "white",
            "linecolor": "white",
            "ticks": ""
           }
          },
          "title": {
           "x": 0.05
          },
          "xaxis": {
           "automargin": true,
           "gridcolor": "white",
           "linecolor": "white",
           "ticks": "",
           "title": {
            "standoff": 15
           },
           "zerolinecolor": "white",
           "zerolinewidth": 2
          },
          "yaxis": {
           "automargin": true,
           "gridcolor": "white",
           "linecolor": "white",
           "ticks": "",
           "title": {
            "standoff": 15
           },
           "zerolinecolor": "white",
           "zerolinewidth": 2
          }
         }
        },
        "width": 600
       }
      },
      "text/html": [
       "<div>                            <div id=\"90b0ea12-36e2-4d48-a3b1-ceea1a4cc9f3\" class=\"plotly-graph-div\" style=\"height:300px; width:600px;\"></div>            <script type=\"text/javascript\">                require([\"plotly\"], function(Plotly) {                    window.PLOTLYENV=window.PLOTLYENV || {};                                    if (document.getElementById(\"90b0ea12-36e2-4d48-a3b1-ceea1a4cc9f3\")) {                    Plotly.newPlot(                        \"90b0ea12-36e2-4d48-a3b1-ceea1a4cc9f3\",                        [{\"cells\":{\"align\":\"left\",\"fill\":{\"color\":\"lightcyan\"},\"line\":{\"color\":\"darkslategray\"},\"values\":[[\"San Diego County, CA, USA\",\"San Mateo County, CA, USA\",\"Alameda County, CA, USA\",\"Santa Clara County, CA, USA\",\"Orange County, CA, USA\",\"Los Angeles County, CA, USA\",\"San Joaquin County, CA, USA\",\"Riverside County, CA, USA\",\"Solano County, CA, USA\",\"Yuba County, CA, USA\"],[609382.4039999988,464798.82200000435,362920.3200000008,274522.80000000034,258021.43600000112,197198.88300000117,155206.49000000005,134541.79000000012,125683.51400000001,108344.0]]},\"header\":{\"align\":\"left\",\"fill\":{\"color\":\"lightskyblue\"},\"line\":{\"color\":\"darkslategray\"},\"values\":[\"Zone\",\"Total Pounds\"]},\"type\":\"table\"}],                        {\"height\":300,\"template\":{\"data\":{\"bar\":[{\"error_x\":{\"color\":\"#2a3f5f\"},\"error_y\":{\"color\":\"#2a3f5f\"},\"marker\":{\"line\":{\"color\":\"#E5ECF6\",\"width\":0.5},\"pattern\":{\"fillmode\":\"overlay\",\"size\":10,\"solidity\":0.2}},\"type\":\"bar\"}],\"barpolar\":[{\"marker\":{\"line\":{\"color\":\"#E5ECF6\",\"width\":0.5},\"pattern\":{\"fillmode\":\"overlay\",\"size\":10,\"solidity\":0.2}},\"type\":\"barpolar\"}],\"carpet\":[{\"aaxis\":{\"endlinecolor\":\"#2a3f5f\",\"gridcolor\":\"white\",\"linecolor\":\"white\",\"minorgridcolor\":\"white\",\"startlinecolor\":\"#2a3f5f\"},\"baxis\":{\"endlinecolor\":\"#2a3f5f\",\"gridcolor\":\"white\",\"linecolor\":\"white\",\"minorgridcolor\":\"white\",\"startlinecolor\":\"#2a3f5f\"},\"type\":\"carpet\"}],\"choropleth\":[{\"colorbar\":{\"outlinewidth\":0,\"ticks\":\"\"},\"type\":\"choropleth\"}],\"contour\":[{\"colorbar\":{\"outlinewidth\":0,\"ticks\":\"\"},\"colorscale\":[[0.0,\"#0d0887\"],[0.1111111111111111,\"#46039f\"],[0.2222222222222222,\"#7201a8\"],[0.3333333333333333,\"#9c179e\"],[0.4444444444444444,\"#bd3786\"],[0.5555555555555556,\"#d8576b\"],[0.6666666666666666,\"#ed7953\"],[0.7777777777777778,\"#fb9f3a\"],[0.8888888888888888,\"#fdca26\"],[1.0,\"#f0f921\"]],\"type\":\"contour\"}],\"contourcarpet\":[{\"colorbar\":{\"outlinewidth\":0,\"ticks\":\"\"},\"type\":\"contourcarpet\"}],\"heatmap\":[{\"colorbar\":{\"outlinewidth\":0,\"ticks\":\"\"},\"colorscale\":[[0.0,\"#0d0887\"],[0.1111111111111111,\"#46039f\"],[0.2222222222222222,\"#7201a8\"],[0.3333333333333333,\"#9c179e\"],[0.4444444444444444,\"#bd3786\"],[0.5555555555555556,\"#d8576b\"],[0.6666666666666666,\"#ed7953\"],[0.7777777777777778,\"#fb9f3a\"],[0.8888888888888888,\"#fdca26\"],[1.0,\"#f0f921\"]],\"type\":\"heatmap\"}],\"heatmapgl\":[{\"colorbar\":{\"outlinewidth\":0,\"ticks\":\"\"},\"colorscale\":[[0.0,\"#0d0887\"],[0.1111111111111111,\"#46039f\"],[0.2222222222222222,\"#7201a8\"],[0.3333333333333333,\"#9c179e\"],[0.4444444444444444,\"#bd3786\"],[0.5555555555555556,\"#d8576b\"],[0.6666666666666666,\"#ed7953\"],[0.7777777777777778,\"#fb9f3a\"],[0.8888888888888888,\"#fdca26\"],[1.0,\"#f0f921\"]],\"type\":\"heatmapgl\"}],\"histogram\":[{\"marker\":{\"pattern\":{\"fillmode\":\"overlay\",\"size\":10,\"solidity\":0.2}},\"type\":\"histogram\"}],\"histogram2d\":[{\"colorbar\":{\"outlinewidth\":0,\"ticks\":\"\"},\"colorscale\":[[0.0,\"#0d0887\"],[0.1111111111111111,\"#46039f\"],[0.2222222222222222,\"#7201a8\"],[0.3333333333333333,\"#9c179e\"],[0.4444444444444444,\"#bd3786\"],[0.5555555555555556,\"#d8576b\"],[0.6666666666666666,\"#ed7953\"],[0.7777777777777778,\"#fb9f3a\"],[0.8888888888888888,\"#fdca26\"],[1.0,\"#f0f921\"]],\"type\":\"histogram2d\"}],\"histogram2dcontour\":[{\"colorbar\":{\"outlinewidth\":0,\"ticks\":\"\"},\"colorscale\":[[0.0,\"#0d0887\"],[0.1111111111111111,\"#46039f\"],[0.2222222222222222,\"#7201a8\"],[0.3333333333333333,\"#9c179e\"],[0.4444444444444444,\"#bd3786\"],[0.5555555555555556,\"#d8576b\"],[0.6666666666666666,\"#ed7953\"],[0.7777777777777778,\"#fb9f3a\"],[0.8888888888888888,\"#fdca26\"],[1.0,\"#f0f921\"]],\"type\":\"histogram2dcontour\"}],\"mesh3d\":[{\"colorbar\":{\"outlinewidth\":0,\"ticks\":\"\"},\"type\":\"mesh3d\"}],\"parcoords\":[{\"line\":{\"colorbar\":{\"outlinewidth\":0,\"ticks\":\"\"}},\"type\":\"parcoords\"}],\"pie\":[{\"automargin\":true,\"type\":\"pie\"}],\"scatter\":[{\"marker\":{\"colorbar\":{\"outlinewidth\":0,\"ticks\":\"\"}},\"type\":\"scatter\"}],\"scatter3d\":[{\"line\":{\"colorbar\":{\"outlinewidth\":0,\"ticks\":\"\"}},\"marker\":{\"colorbar\":{\"outlinewidth\":0,\"ticks\":\"\"}},\"type\":\"scatter3d\"}],\"scattercarpet\":[{\"marker\":{\"colorbar\":{\"outlinewidth\":0,\"ticks\":\"\"}},\"type\":\"scattercarpet\"}],\"scattergeo\":[{\"marker\":{\"colorbar\":{\"outlinewidth\":0,\"ticks\":\"\"}},\"type\":\"scattergeo\"}],\"scattergl\":[{\"marker\":{\"colorbar\":{\"outlinewidth\":0,\"ticks\":\"\"}},\"type\":\"scattergl\"}],\"scattermapbox\":[{\"marker\":{\"colorbar\":{\"outlinewidth\":0,\"ticks\":\"\"}},\"type\":\"scattermapbox\"}],\"scatterpolar\":[{\"marker\":{\"colorbar\":{\"outlinewidth\":0,\"ticks\":\"\"}},\"type\":\"scatterpolar\"}],\"scatterpolargl\":[{\"marker\":{\"colorbar\":{\"outlinewidth\":0,\"ticks\":\"\"}},\"type\":\"scatterpolargl\"}],\"scatterternary\":[{\"marker\":{\"colorbar\":{\"outlinewidth\":0,\"ticks\":\"\"}},\"type\":\"scatterternary\"}],\"surface\":[{\"colorbar\":{\"outlinewidth\":0,\"ticks\":\"\"},\"colorscale\":[[0.0,\"#0d0887\"],[0.1111111111111111,\"#46039f\"],[0.2222222222222222,\"#7201a8\"],[0.3333333333333333,\"#9c179e\"],[0.4444444444444444,\"#bd3786\"],[0.5555555555555556,\"#d8576b\"],[0.6666666666666666,\"#ed7953\"],[0.7777777777777778,\"#fb9f3a\"],[0.8888888888888888,\"#fdca26\"],[1.0,\"#f0f921\"]],\"type\":\"surface\"}],\"table\":[{\"cells\":{\"fill\":{\"color\":\"#EBF0F8\"},\"line\":{\"color\":\"white\"}},\"header\":{\"fill\":{\"color\":\"#C8D4E3\"},\"line\":{\"color\":\"white\"}},\"type\":\"table\"}]},\"layout\":{\"annotationdefaults\":{\"arrowcolor\":\"#2a3f5f\",\"arrowhead\":0,\"arrowwidth\":1},\"autotypenumbers\":\"strict\",\"coloraxis\":{\"colorbar\":{\"outlinewidth\":0,\"ticks\":\"\"}},\"colorscale\":{\"diverging\":[[0,\"#8e0152\"],[0.1,\"#c51b7d\"],[0.2,\"#de77ae\"],[0.3,\"#f1b6da\"],[0.4,\"#fde0ef\"],[0.5,\"#f7f7f7\"],[0.6,\"#e6f5d0\"],[0.7,\"#b8e186\"],[0.8,\"#7fbc41\"],[0.9,\"#4d9221\"],[1,\"#276419\"]],\"sequential\":[[0.0,\"#0d0887\"],[0.1111111111111111,\"#46039f\"],[0.2222222222222222,\"#7201a8\"],[0.3333333333333333,\"#9c179e\"],[0.4444444444444444,\"#bd3786\"],[0.5555555555555556,\"#d8576b\"],[0.6666666666666666,\"#ed7953\"],[0.7777777777777778,\"#fb9f3a\"],[0.8888888888888888,\"#fdca26\"],[1.0,\"#f0f921\"]],\"sequentialminus\":[[0.0,\"#0d0887\"],[0.1111111111111111,\"#46039f\"],[0.2222222222222222,\"#7201a8\"],[0.3333333333333333,\"#9c179e\"],[0.4444444444444444,\"#bd3786\"],[0.5555555555555556,\"#d8576b\"],[0.6666666666666666,\"#ed7953\"],[0.7777777777777778,\"#fb9f3a\"],[0.8888888888888888,\"#fdca26\"],[1.0,\"#f0f921\"]]},\"colorway\":[\"#636efa\",\"#EF553B\",\"#00cc96\",\"#ab63fa\",\"#FFA15A\",\"#19d3f3\",\"#FF6692\",\"#B6E880\",\"#FF97FF\",\"#FECB52\"],\"font\":{\"color\":\"#2a3f5f\"},\"geo\":{\"bgcolor\":\"white\",\"lakecolor\":\"white\",\"landcolor\":\"#E5ECF6\",\"showlakes\":true,\"showland\":true,\"subunitcolor\":\"white\"},\"hoverlabel\":{\"align\":\"left\"},\"hovermode\":\"closest\",\"mapbox\":{\"style\":\"light\"},\"paper_bgcolor\":\"white\",\"plot_bgcolor\":\"#E5ECF6\",\"polar\":{\"angularaxis\":{\"gridcolor\":\"white\",\"linecolor\":\"white\",\"ticks\":\"\"},\"bgcolor\":\"#E5ECF6\",\"radialaxis\":{\"gridcolor\":\"white\",\"linecolor\":\"white\",\"ticks\":\"\"}},\"scene\":{\"xaxis\":{\"backgroundcolor\":\"#E5ECF6\",\"gridcolor\":\"white\",\"gridwidth\":2,\"linecolor\":\"white\",\"showbackground\":true,\"ticks\":\"\",\"zerolinecolor\":\"white\"},\"yaxis\":{\"backgroundcolor\":\"#E5ECF6\",\"gridcolor\":\"white\",\"gridwidth\":2,\"linecolor\":\"white\",\"showbackground\":true,\"ticks\":\"\",\"zerolinecolor\":\"white\"},\"zaxis\":{\"backgroundcolor\":\"#E5ECF6\",\"gridcolor\":\"white\",\"gridwidth\":2,\"linecolor\":\"white\",\"showbackground\":true,\"ticks\":\"\",\"zerolinecolor\":\"white\"}},\"shapedefaults\":{\"line\":{\"color\":\"#2a3f5f\"}},\"ternary\":{\"aaxis\":{\"gridcolor\":\"white\",\"linecolor\":\"white\",\"ticks\":\"\"},\"baxis\":{\"gridcolor\":\"white\",\"linecolor\":\"white\",\"ticks\":\"\"},\"bgcolor\":\"#E5ECF6\",\"caxis\":{\"gridcolor\":\"white\",\"linecolor\":\"white\",\"ticks\":\"\"}},\"title\":{\"x\":0.05},\"xaxis\":{\"automargin\":true,\"gridcolor\":\"white\",\"linecolor\":\"white\",\"ticks\":\"\",\"title\":{\"standoff\":15},\"zerolinecolor\":\"white\",\"zerolinewidth\":2},\"yaxis\":{\"automargin\":true,\"gridcolor\":\"white\",\"linecolor\":\"white\",\"ticks\":\"\",\"title\":{\"standoff\":15},\"zerolinecolor\":\"white\",\"zerolinewidth\":2}}},\"width\":600},                        {\"responsive\": true}                    ).then(function(){\n",
       "                            \n",
       "var gd = document.getElementById('90b0ea12-36e2-4d48-a3b1-ceea1a4cc9f3');\n",
       "var x = new MutationObserver(function (mutations, observer) {{\n",
       "        var display = window.getComputedStyle(gd).display;\n",
       "        if (!display || display === 'none') {{\n",
       "            console.log([gd, 'removed!']);\n",
       "            Plotly.purge(gd);\n",
       "            observer.disconnect();\n",
       "        }}\n",
       "}});\n",
       "\n",
       "// Listen for the removal of the full notebook cells\n",
       "var notebookContainer = gd.closest('#notebook-container');\n",
       "if (notebookContainer) {{\n",
       "    x.observe(notebookContainer, {childList: true});\n",
       "}}\n",
       "\n",
       "// Listen for the clearing of the current output cell\n",
       "var outputEl = gd.closest('.output');\n",
       "if (outputEl) {{\n",
       "    x.observe(outputEl, {childList: true});\n",
       "}}\n",
       "\n",
       "                        })                };                });            </script>        </div>"
      ]
     },
     "metadata": {},
     "output_type": "display_data"
    }
   ],
   "source": [
    "\n",
    "fig = go.Figure(data=[go.Table(\n",
    "    header=dict(values=['Zone', 'Total Pounds'],\n",
    "                line_color='darkslategray',\n",
    "                fill_color='lightskyblue',\n",
    "                align='left'),\n",
    "    cells=dict(values=[Tides_and_Blue_Bucket_sorted['Zone'], # 1st column\n",
    "                       Tides_and_Blue_Bucket_sorted['Total Pounds']], # 2nd column\n",
    "               line_color='darkslategray',\n",
    "               fill_color='lightcyan',\n",
    "               align='left'))\n",
    "])\n",
    "\n",
    "fig.update_layout(width=600, height=300)\n",
    "fig.show()"
   ]
  },
  {
   "cell_type": "code",
   "execution_count": null,
   "metadata": {},
   "outputs": [],
   "source": []
  }
 ],
 "metadata": {
  "kernelspec": {
   "display_name": "Python 3",
   "language": "python",
   "name": "python3"
  },
  "language_info": {
   "codemirror_mode": {
    "name": "ipython",
    "version": 3
   },
   "file_extension": ".py",
   "mimetype": "text/x-python",
   "name": "python",
   "nbconvert_exporter": "python",
   "pygments_lexer": "ipython3",
   "version": "3.8.3"
  }
 },
 "nbformat": 4,
 "nbformat_minor": 2
}
